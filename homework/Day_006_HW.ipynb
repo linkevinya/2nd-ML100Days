{
 "cells": [
  {
   "cell_type": "markdown",
   "metadata": {},
   "source": [
    "# 檢視與處理 Outliers\n",
    "### 為何會有 outliers, 常見的 outlier 原因\n",
    "* 未知值，隨意填補 (約定俗成的代入)，如年齡常見 0,999\n",
    "* 可能的錯誤紀錄/手誤/系統性錯誤，如某本書在某筆訂單的銷售量 = 1000 本"
   ]
  },
  {
   "cell_type": "code",
   "execution_count": 1,
   "metadata": {},
   "outputs": [],
   "source": [
    "# Import 需要的套件\n",
    "import os\n",
    "import numpy as np\n",
    "import pandas as pd\n",
    "import matplotlib.pyplot as plt\n",
    "\n",
    "%matplotlib inline\n",
    "\n",
    "# 設定 data_path\n",
    "dir_data = 'C:\\\\Users\\\\LinKevinYA\\\\ML-100Days\\\\Part01'"
   ]
  },
  {
   "cell_type": "code",
   "execution_count": 2,
   "metadata": {},
   "outputs": [
    {
     "name": "stdout",
     "output_type": "stream",
     "text": [
      "Path of read in data: C:\\Users\\LinKevinYA\\ML-100Days\\Part01\\application_train.csv\n"
     ]
    },
    {
     "data": {
      "text/html": [
       "<div>\n",
       "<style scoped>\n",
       "    .dataframe tbody tr th:only-of-type {\n",
       "        vertical-align: middle;\n",
       "    }\n",
       "\n",
       "    .dataframe tbody tr th {\n",
       "        vertical-align: top;\n",
       "    }\n",
       "\n",
       "    .dataframe thead th {\n",
       "        text-align: right;\n",
       "    }\n",
       "</style>\n",
       "<table border=\"1\" class=\"dataframe\">\n",
       "  <thead>\n",
       "    <tr style=\"text-align: right;\">\n",
       "      <th></th>\n",
       "      <th>SK_ID_CURR</th>\n",
       "      <th>TARGET</th>\n",
       "      <th>NAME_CONTRACT_TYPE</th>\n",
       "      <th>CODE_GENDER</th>\n",
       "      <th>FLAG_OWN_CAR</th>\n",
       "      <th>FLAG_OWN_REALTY</th>\n",
       "      <th>CNT_CHILDREN</th>\n",
       "      <th>AMT_INCOME_TOTAL</th>\n",
       "      <th>AMT_CREDIT</th>\n",
       "      <th>AMT_ANNUITY</th>\n",
       "      <th>...</th>\n",
       "      <th>FLAG_DOCUMENT_18</th>\n",
       "      <th>FLAG_DOCUMENT_19</th>\n",
       "      <th>FLAG_DOCUMENT_20</th>\n",
       "      <th>FLAG_DOCUMENT_21</th>\n",
       "      <th>AMT_REQ_CREDIT_BUREAU_HOUR</th>\n",
       "      <th>AMT_REQ_CREDIT_BUREAU_DAY</th>\n",
       "      <th>AMT_REQ_CREDIT_BUREAU_WEEK</th>\n",
       "      <th>AMT_REQ_CREDIT_BUREAU_MON</th>\n",
       "      <th>AMT_REQ_CREDIT_BUREAU_QRT</th>\n",
       "      <th>AMT_REQ_CREDIT_BUREAU_YEAR</th>\n",
       "    </tr>\n",
       "  </thead>\n",
       "  <tbody>\n",
       "    <tr>\n",
       "      <th>0</th>\n",
       "      <td>100002</td>\n",
       "      <td>1</td>\n",
       "      <td>Cash loans</td>\n",
       "      <td>M</td>\n",
       "      <td>N</td>\n",
       "      <td>Y</td>\n",
       "      <td>0</td>\n",
       "      <td>202500.0</td>\n",
       "      <td>406597.5</td>\n",
       "      <td>24700.5</td>\n",
       "      <td>...</td>\n",
       "      <td>0</td>\n",
       "      <td>0</td>\n",
       "      <td>0</td>\n",
       "      <td>0</td>\n",
       "      <td>0.0</td>\n",
       "      <td>0.0</td>\n",
       "      <td>0.0</td>\n",
       "      <td>0.0</td>\n",
       "      <td>0.0</td>\n",
       "      <td>1.0</td>\n",
       "    </tr>\n",
       "    <tr>\n",
       "      <th>1</th>\n",
       "      <td>100003</td>\n",
       "      <td>0</td>\n",
       "      <td>Cash loans</td>\n",
       "      <td>F</td>\n",
       "      <td>N</td>\n",
       "      <td>N</td>\n",
       "      <td>0</td>\n",
       "      <td>270000.0</td>\n",
       "      <td>1293502.5</td>\n",
       "      <td>35698.5</td>\n",
       "      <td>...</td>\n",
       "      <td>0</td>\n",
       "      <td>0</td>\n",
       "      <td>0</td>\n",
       "      <td>0</td>\n",
       "      <td>0.0</td>\n",
       "      <td>0.0</td>\n",
       "      <td>0.0</td>\n",
       "      <td>0.0</td>\n",
       "      <td>0.0</td>\n",
       "      <td>0.0</td>\n",
       "    </tr>\n",
       "    <tr>\n",
       "      <th>2</th>\n",
       "      <td>100004</td>\n",
       "      <td>0</td>\n",
       "      <td>Revolving loans</td>\n",
       "      <td>M</td>\n",
       "      <td>Y</td>\n",
       "      <td>Y</td>\n",
       "      <td>0</td>\n",
       "      <td>67500.0</td>\n",
       "      <td>135000.0</td>\n",
       "      <td>6750.0</td>\n",
       "      <td>...</td>\n",
       "      <td>0</td>\n",
       "      <td>0</td>\n",
       "      <td>0</td>\n",
       "      <td>0</td>\n",
       "      <td>0.0</td>\n",
       "      <td>0.0</td>\n",
       "      <td>0.0</td>\n",
       "      <td>0.0</td>\n",
       "      <td>0.0</td>\n",
       "      <td>0.0</td>\n",
       "    </tr>\n",
       "    <tr>\n",
       "      <th>3</th>\n",
       "      <td>100006</td>\n",
       "      <td>0</td>\n",
       "      <td>Cash loans</td>\n",
       "      <td>F</td>\n",
       "      <td>N</td>\n",
       "      <td>Y</td>\n",
       "      <td>0</td>\n",
       "      <td>135000.0</td>\n",
       "      <td>312682.5</td>\n",
       "      <td>29686.5</td>\n",
       "      <td>...</td>\n",
       "      <td>0</td>\n",
       "      <td>0</td>\n",
       "      <td>0</td>\n",
       "      <td>0</td>\n",
       "      <td>NaN</td>\n",
       "      <td>NaN</td>\n",
       "      <td>NaN</td>\n",
       "      <td>NaN</td>\n",
       "      <td>NaN</td>\n",
       "      <td>NaN</td>\n",
       "    </tr>\n",
       "    <tr>\n",
       "      <th>4</th>\n",
       "      <td>100007</td>\n",
       "      <td>0</td>\n",
       "      <td>Cash loans</td>\n",
       "      <td>M</td>\n",
       "      <td>N</td>\n",
       "      <td>Y</td>\n",
       "      <td>0</td>\n",
       "      <td>121500.0</td>\n",
       "      <td>513000.0</td>\n",
       "      <td>21865.5</td>\n",
       "      <td>...</td>\n",
       "      <td>0</td>\n",
       "      <td>0</td>\n",
       "      <td>0</td>\n",
       "      <td>0</td>\n",
       "      <td>0.0</td>\n",
       "      <td>0.0</td>\n",
       "      <td>0.0</td>\n",
       "      <td>0.0</td>\n",
       "      <td>0.0</td>\n",
       "      <td>0.0</td>\n",
       "    </tr>\n",
       "  </tbody>\n",
       "</table>\n",
       "<p>5 rows × 122 columns</p>\n",
       "</div>"
      ],
      "text/plain": [
       "   SK_ID_CURR  TARGET NAME_CONTRACT_TYPE CODE_GENDER FLAG_OWN_CAR  \\\n",
       "0      100002       1         Cash loans           M            N   \n",
       "1      100003       0         Cash loans           F            N   \n",
       "2      100004       0    Revolving loans           M            Y   \n",
       "3      100006       0         Cash loans           F            N   \n",
       "4      100007       0         Cash loans           M            N   \n",
       "\n",
       "  FLAG_OWN_REALTY  CNT_CHILDREN  AMT_INCOME_TOTAL  AMT_CREDIT  AMT_ANNUITY  \\\n",
       "0               Y             0          202500.0    406597.5      24700.5   \n",
       "1               N             0          270000.0   1293502.5      35698.5   \n",
       "2               Y             0           67500.0    135000.0       6750.0   \n",
       "3               Y             0          135000.0    312682.5      29686.5   \n",
       "4               Y             0          121500.0    513000.0      21865.5   \n",
       "\n",
       "              ...              FLAG_DOCUMENT_18 FLAG_DOCUMENT_19  \\\n",
       "0             ...                             0                0   \n",
       "1             ...                             0                0   \n",
       "2             ...                             0                0   \n",
       "3             ...                             0                0   \n",
       "4             ...                             0                0   \n",
       "\n",
       "  FLAG_DOCUMENT_20 FLAG_DOCUMENT_21 AMT_REQ_CREDIT_BUREAU_HOUR  \\\n",
       "0                0                0                        0.0   \n",
       "1                0                0                        0.0   \n",
       "2                0                0                        0.0   \n",
       "3                0                0                        NaN   \n",
       "4                0                0                        0.0   \n",
       "\n",
       "  AMT_REQ_CREDIT_BUREAU_DAY  AMT_REQ_CREDIT_BUREAU_WEEK  \\\n",
       "0                       0.0                         0.0   \n",
       "1                       0.0                         0.0   \n",
       "2                       0.0                         0.0   \n",
       "3                       NaN                         NaN   \n",
       "4                       0.0                         0.0   \n",
       "\n",
       "   AMT_REQ_CREDIT_BUREAU_MON  AMT_REQ_CREDIT_BUREAU_QRT  \\\n",
       "0                        0.0                        0.0   \n",
       "1                        0.0                        0.0   \n",
       "2                        0.0                        0.0   \n",
       "3                        NaN                        NaN   \n",
       "4                        0.0                        0.0   \n",
       "\n",
       "   AMT_REQ_CREDIT_BUREAU_YEAR  \n",
       "0                         1.0  \n",
       "1                         0.0  \n",
       "2                         0.0  \n",
       "3                         NaN  \n",
       "4                         0.0  \n",
       "\n",
       "[5 rows x 122 columns]"
      ]
     },
     "execution_count": 2,
     "metadata": {},
     "output_type": "execute_result"
    }
   ],
   "source": [
    "f_app = os.path.join(dir_data, 'application_train.csv')\n",
    "print('Path of read in data: %s' % (f_app))\n",
    "app_train = pd.read_csv(f_app)\n",
    "app_train.head()"
   ]
  },
  {
   "cell_type": "markdown",
   "metadata": {},
   "source": [
    "## 請參考 HomeCredit_columns_description.csv 的欄位說明，觀察並列出三個你覺得可能有 outlier 的欄位並解釋可能的原因"
   ]
  },
  {
   "cell_type": "code",
   "execution_count": 13,
   "metadata": {},
   "outputs": [
    {
     "data": {
      "text/plain": [
       "SK_ID_CURR                    False\n",
       "TARGET                        False\n",
       "NAME_CONTRACT_TYPE            False\n",
       "CODE_GENDER                   False\n",
       "FLAG_OWN_CAR                  False\n",
       "FLAG_OWN_REALTY               False\n",
       "CNT_CHILDREN                  False\n",
       "AMT_INCOME_TOTAL               True\n",
       "AMT_CREDIT                     True\n",
       "AMT_ANNUITY                    True\n",
       "AMT_GOODS_PRICE                True\n",
       "NAME_TYPE_SUITE               False\n",
       "NAME_INCOME_TYPE              False\n",
       "NAME_EDUCATION_TYPE           False\n",
       "NAME_FAMILY_STATUS            False\n",
       "NAME_HOUSING_TYPE             False\n",
       "REGION_POPULATION_RELATIVE     True\n",
       "DAYS_BIRTH                    False\n",
       "DAYS_EMPLOYED                 False\n",
       "DAYS_REGISTRATION              True\n",
       "DAYS_ID_PUBLISH               False\n",
       "OWN_CAR_AGE                    True\n",
       "FLAG_MOBIL                    False\n",
       "FLAG_EMP_PHONE                False\n",
       "FLAG_WORK_PHONE               False\n",
       "FLAG_CONT_MOBILE              False\n",
       "FLAG_PHONE                    False\n",
       "FLAG_EMAIL                    False\n",
       "OCCUPATION_TYPE               False\n",
       "CNT_FAM_MEMBERS                True\n",
       "                              ...  \n",
       "DEF_30_CNT_SOCIAL_CIRCLE       True\n",
       "OBS_60_CNT_SOCIAL_CIRCLE       True\n",
       "DEF_60_CNT_SOCIAL_CIRCLE       True\n",
       "DAYS_LAST_PHONE_CHANGE         True\n",
       "FLAG_DOCUMENT_2               False\n",
       "FLAG_DOCUMENT_3               False\n",
       "FLAG_DOCUMENT_4               False\n",
       "FLAG_DOCUMENT_5               False\n",
       "FLAG_DOCUMENT_6               False\n",
       "FLAG_DOCUMENT_7               False\n",
       "FLAG_DOCUMENT_8               False\n",
       "FLAG_DOCUMENT_9               False\n",
       "FLAG_DOCUMENT_10              False\n",
       "FLAG_DOCUMENT_11              False\n",
       "FLAG_DOCUMENT_12              False\n",
       "FLAG_DOCUMENT_13              False\n",
       "FLAG_DOCUMENT_14              False\n",
       "FLAG_DOCUMENT_15              False\n",
       "FLAG_DOCUMENT_16              False\n",
       "FLAG_DOCUMENT_17              False\n",
       "FLAG_DOCUMENT_18              False\n",
       "FLAG_DOCUMENT_19              False\n",
       "FLAG_DOCUMENT_20              False\n",
       "FLAG_DOCUMENT_21              False\n",
       "AMT_REQ_CREDIT_BUREAU_HOUR     True\n",
       "AMT_REQ_CREDIT_BUREAU_DAY      True\n",
       "AMT_REQ_CREDIT_BUREAU_WEEK     True\n",
       "AMT_REQ_CREDIT_BUREAU_MON      True\n",
       "AMT_REQ_CREDIT_BUREAU_QRT      True\n",
       "AMT_REQ_CREDIT_BUREAU_YEAR     True\n",
       "Length: 122, dtype: bool"
      ]
     },
     "execution_count": 13,
     "metadata": {},
     "output_type": "execute_result"
    }
   ],
   "source": [
    "app_train.dtypes\n",
    "app_train.dtypes.isin([np.dtype('float64')])"
   ]
  },
  {
   "cell_type": "code",
   "execution_count": 14,
   "metadata": {
    "scrolled": true
   },
   "outputs": [
    {
     "name": "stdout",
     "output_type": "stream",
     "text": [
      "['AMT_INCOME_TOTAL', 'AMT_CREDIT', 'AMT_ANNUITY', 'AMT_GOODS_PRICE', 'REGION_POPULATION_RELATIVE', 'DAYS_REGISTRATION', 'OWN_CAR_AGE', 'CNT_FAM_MEMBERS', 'EXT_SOURCE_1', 'EXT_SOURCE_2', 'EXT_SOURCE_3', 'APARTMENTS_AVG', 'BASEMENTAREA_AVG', 'YEARS_BEGINEXPLUATATION_AVG', 'YEARS_BUILD_AVG', 'COMMONAREA_AVG', 'ELEVATORS_AVG', 'ENTRANCES_AVG', 'FLOORSMAX_AVG', 'FLOORSMIN_AVG', 'LANDAREA_AVG', 'LIVINGAPARTMENTS_AVG', 'LIVINGAREA_AVG', 'NONLIVINGAPARTMENTS_AVG', 'NONLIVINGAREA_AVG', 'APARTMENTS_MODE', 'BASEMENTAREA_MODE', 'YEARS_BEGINEXPLUATATION_MODE', 'YEARS_BUILD_MODE', 'COMMONAREA_MODE', 'ELEVATORS_MODE', 'ENTRANCES_MODE', 'FLOORSMAX_MODE', 'FLOORSMIN_MODE', 'LANDAREA_MODE', 'LIVINGAPARTMENTS_MODE', 'LIVINGAREA_MODE', 'NONLIVINGAPARTMENTS_MODE', 'NONLIVINGAREA_MODE', 'APARTMENTS_MEDI', 'BASEMENTAREA_MEDI', 'YEARS_BEGINEXPLUATATION_MEDI', 'YEARS_BUILD_MEDI', 'COMMONAREA_MEDI', 'ELEVATORS_MEDI', 'ENTRANCES_MEDI', 'FLOORSMAX_MEDI', 'FLOORSMIN_MEDI', 'LANDAREA_MEDI', 'LIVINGAPARTMENTS_MEDI', 'LIVINGAREA_MEDI', 'NONLIVINGAPARTMENTS_MEDI', 'NONLIVINGAREA_MEDI', 'TOTALAREA_MODE', 'OBS_30_CNT_SOCIAL_CIRCLE', 'DEF_30_CNT_SOCIAL_CIRCLE', 'OBS_60_CNT_SOCIAL_CIRCLE', 'DEF_60_CNT_SOCIAL_CIRCLE', 'DAYS_LAST_PHONE_CHANGE', 'AMT_REQ_CREDIT_BUREAU_HOUR', 'AMT_REQ_CREDIT_BUREAU_DAY', 'AMT_REQ_CREDIT_BUREAU_WEEK', 'AMT_REQ_CREDIT_BUREAU_MON', 'AMT_REQ_CREDIT_BUREAU_QRT', 'AMT_REQ_CREDIT_BUREAU_YEAR']\n"
     ]
    }
   ],
   "source": [
    "dtype_select = [np.dtype('float64')]\n",
    "\n",
    "numeric_columns = list(app_train.columns[list(app_train.dtypes.isin(dtype_select))])\n",
    "print(numeric_columns)"
   ]
  },
  {
   "cell_type": "code",
   "execution_count": 15,
   "metadata": {},
   "outputs": [
    {
     "name": "stdout",
     "output_type": "stream",
     "text": [
      "AMT_INCOME_TOTAL\n",
      "AMT_CREDIT\n",
      "AMT_ANNUITY\n",
      "AMT_GOODS_PRICE\n",
      "REGION_POPULATION_RELATIVE\n",
      "DAYS_REGISTRATION\n",
      "OWN_CAR_AGE\n",
      "CNT_FAM_MEMBERS\n",
      "EXT_SOURCE_1\n",
      "EXT_SOURCE_2\n",
      "EXT_SOURCE_3\n",
      "APARTMENTS_AVG\n",
      "BASEMENTAREA_AVG\n",
      "YEARS_BEGINEXPLUATATION_AVG\n",
      "YEARS_BUILD_AVG\n",
      "COMMONAREA_AVG\n",
      "ELEVATORS_AVG\n",
      "ENTRANCES_AVG\n",
      "FLOORSMAX_AVG\n",
      "FLOORSMIN_AVG\n",
      "LANDAREA_AVG\n",
      "LIVINGAPARTMENTS_AVG\n",
      "LIVINGAREA_AVG\n",
      "NONLIVINGAPARTMENTS_AVG\n",
      "NONLIVINGAREA_AVG\n",
      "APARTMENTS_MODE\n",
      "BASEMENTAREA_MODE\n",
      "YEARS_BEGINEXPLUATATION_MODE\n",
      "YEARS_BUILD_MODE\n",
      "COMMONAREA_MODE\n",
      "ELEVATORS_MODE\n",
      "ENTRANCES_MODE\n",
      "FLOORSMAX_MODE\n",
      "FLOORSMIN_MODE\n",
      "LANDAREA_MODE\n",
      "LIVINGAPARTMENTS_MODE\n",
      "LIVINGAREA_MODE\n",
      "NONLIVINGAPARTMENTS_MODE\n",
      "NONLIVINGAREA_MODE\n",
      "APARTMENTS_MEDI\n",
      "BASEMENTAREA_MEDI\n",
      "YEARS_BEGINEXPLUATATION_MEDI\n",
      "YEARS_BUILD_MEDI\n",
      "COMMONAREA_MEDI\n",
      "ELEVATORS_MEDI\n",
      "ENTRANCES_MEDI\n",
      "FLOORSMAX_MEDI\n",
      "FLOORSMIN_MEDI\n",
      "LANDAREA_MEDI\n",
      "LIVINGAPARTMENTS_MEDI\n",
      "LIVINGAREA_MEDI\n",
      "NONLIVINGAPARTMENTS_MEDI\n",
      "NONLIVINGAREA_MEDI\n",
      "TOTALAREA_MODE\n",
      "OBS_30_CNT_SOCIAL_CIRCLE\n",
      "DEF_30_CNT_SOCIAL_CIRCLE\n",
      "OBS_60_CNT_SOCIAL_CIRCLE\n",
      "DEF_60_CNT_SOCIAL_CIRCLE\n",
      "DAYS_LAST_PHONE_CHANGE\n",
      "AMT_REQ_CREDIT_BUREAU_HOUR\n",
      "AMT_REQ_CREDIT_BUREAU_DAY\n",
      "AMT_REQ_CREDIT_BUREAU_WEEK\n",
      "AMT_REQ_CREDIT_BUREAU_MON\n",
      "AMT_REQ_CREDIT_BUREAU_QRT\n",
      "AMT_REQ_CREDIT_BUREAU_YEAR\n"
     ]
    }
   ],
   "source": [
    "for col in numeric_columns:\n",
    "    print(col)"
   ]
  },
  {
   "cell_type": "code",
   "execution_count": 17,
   "metadata": {},
   "outputs": [
    {
     "data": {
      "text/plain": [
       "AMT_INCOME_TOTAL                True\n",
       "AMT_CREDIT                      True\n",
       "AMT_ANNUITY                     True\n",
       "AMT_GOODS_PRICE                 True\n",
       "REGION_POPULATION_RELATIVE      True\n",
       "DAYS_REGISTRATION               True\n",
       "OWN_CAR_AGE                     True\n",
       "CNT_FAM_MEMBERS                 True\n",
       "EXT_SOURCE_1                    True\n",
       "EXT_SOURCE_2                    True\n",
       "EXT_SOURCE_3                    True\n",
       "APARTMENTS_AVG                  True\n",
       "BASEMENTAREA_AVG                True\n",
       "YEARS_BEGINEXPLUATATION_AVG     True\n",
       "YEARS_BUILD_AVG                 True\n",
       "COMMONAREA_AVG                  True\n",
       "ELEVATORS_AVG                   True\n",
       "ENTRANCES_AVG                   True\n",
       "FLOORSMAX_AVG                   True\n",
       "FLOORSMIN_AVG                   True\n",
       "LANDAREA_AVG                    True\n",
       "LIVINGAPARTMENTS_AVG            True\n",
       "LIVINGAREA_AVG                  True\n",
       "NONLIVINGAPARTMENTS_AVG         True\n",
       "NONLIVINGAREA_AVG               True\n",
       "APARTMENTS_MODE                 True\n",
       "BASEMENTAREA_MODE               True\n",
       "YEARS_BEGINEXPLUATATION_MODE    True\n",
       "YEARS_BUILD_MODE                True\n",
       "COMMONAREA_MODE                 True\n",
       "                                ... \n",
       "LIVINGAPARTMENTS_MODE           True\n",
       "LIVINGAREA_MODE                 True\n",
       "NONLIVINGAPARTMENTS_MODE        True\n",
       "NONLIVINGAREA_MODE              True\n",
       "APARTMENTS_MEDI                 True\n",
       "BASEMENTAREA_MEDI               True\n",
       "YEARS_BEGINEXPLUATATION_MEDI    True\n",
       "YEARS_BUILD_MEDI                True\n",
       "COMMONAREA_MEDI                 True\n",
       "ELEVATORS_MEDI                  True\n",
       "ENTRANCES_MEDI                  True\n",
       "FLOORSMAX_MEDI                  True\n",
       "FLOORSMIN_MEDI                  True\n",
       "LANDAREA_MEDI                   True\n",
       "LIVINGAPARTMENTS_MEDI           True\n",
       "LIVINGAREA_MEDI                 True\n",
       "NONLIVINGAPARTMENTS_MEDI        True\n",
       "NONLIVINGAREA_MEDI              True\n",
       "TOTALAREA_MODE                  True\n",
       "OBS_30_CNT_SOCIAL_CIRCLE        True\n",
       "DEF_30_CNT_SOCIAL_CIRCLE        True\n",
       "OBS_60_CNT_SOCIAL_CIRCLE        True\n",
       "DEF_60_CNT_SOCIAL_CIRCLE        True\n",
       "DAYS_LAST_PHONE_CHANGE          True\n",
       "AMT_REQ_CREDIT_BUREAU_HOUR      True\n",
       "AMT_REQ_CREDIT_BUREAU_DAY       True\n",
       "AMT_REQ_CREDIT_BUREAU_WEEK      True\n",
       "AMT_REQ_CREDIT_BUREAU_MON       True\n",
       "AMT_REQ_CREDIT_BUREAU_QRT       True\n",
       "AMT_REQ_CREDIT_BUREAU_YEAR      True\n",
       "Length: 65, dtype: bool"
      ]
     },
     "execution_count": 17,
     "metadata": {},
     "output_type": "execute_result"
    }
   ],
   "source": [
    "app_train[numeric_columns].apply(lambda x:len(x.unique())!=2)"
   ]
  },
  {
   "cell_type": "code",
   "execution_count": null,
   "metadata": {},
   "outputs": [],
   "source": []
  },
  {
   "cell_type": "code",
   "execution_count": 21,
   "metadata": {
    "scrolled": true
   },
   "outputs": [
    {
     "name": "stdout",
     "output_type": "stream",
     "text": [
      "Numbers of remain columns65.00\n",
      "title:AMT_INCOME_TOTAL\n"
     ]
    },
    {
     "data": {
      "image/png": "[encoded data removed]",
      "text/plain": [
       "<matplotlib.figure.Figure at 0x9246908>"
      ]
     },
     "metadata": {},
     "output_type": "display_data"
    },
    {
     "name": "stdout",
     "output_type": "stream",
     "text": [
      "title:AMT_CREDIT\n"
     ]
    },
    {
     "data": {
      "image/png": "[encoded data removed]",
      "text/plain": [
       "<matplotlib.figure.Figure at 0x938fd30>"
      ]
     },
     "metadata": {},
     "output_type": "display_data"
    },
    {
     "name": "stdout",
     "output_type": "stream",
     "text": [
      "title:AMT_ANNUITY\n"
     ]
    },
    {
     "name": "stderr",
     "output_type": "stream",
     "text": [
      "D:\\Anaconda3\\envs\\Python\\lib\\site-packages\\numpy\\lib\\function_base.py:4291: RuntimeWarning: Invalid value encountered in percentile\n",
      "  interpolation=interpolation)\n",
      "D:\\Anaconda3\\envs\\Python\\lib\\site-packages\\matplotlib\\cbook\\__init__.py:1856: RuntimeWarning: invalid value encountered in less_equal\n",
      "  wiskhi = np.compress(x <= hival, x)\n",
      "D:\\Anaconda3\\envs\\Python\\lib\\site-packages\\matplotlib\\cbook\\__init__.py:1863: RuntimeWarning: invalid value encountered in greater_equal\n",
      "  wisklo = np.compress(x >= loval, x)\n",
      "D:\\Anaconda3\\envs\\Python\\lib\\site-packages\\matplotlib\\cbook\\__init__.py:1871: RuntimeWarning: invalid value encountered in less\n",
      "  np.compress(x < stats['whislo'], x),\n",
      "D:\\Anaconda3\\envs\\Python\\lib\\site-packages\\matplotlib\\cbook\\__init__.py:1872: RuntimeWarning: invalid value encountered in greater\n",
      "  np.compress(x > stats['whishi'], x)\n"
     ]
    },
    {
     "data": {
      "image/png": "[encoded data removed]",
      "text/plain": [
       "<matplotlib.figure.Figure at 0x94dc518>"
      ]
     },
     "metadata": {},
     "output_type": "display_data"
    },
    {
     "name": "stdout",
     "output_type": "stream",
     "text": [
      "title:AMT_GOODS_PRICE\n"
     ]
    },
    {
     "data": {
      "image/png": "[encoded data removed]",
      "text/plain": [
       "<matplotlib.figure.Figure at 0x962aef0>"
      ]
     },
     "metadata": {},
     "output_type": "display_data"
    },
    {
     "name": "stdout",
     "output_type": "stream",
     "text": [
      "title:REGION_POPULATION_RELATIVE\n"
     ]
    },
    {
     "data": {
      "image/png": "[encoded data removed]",
      "text/plain": [
       "<matplotlib.figure.Figure at 0x93b5550>"
      ]
     },
     "metadata": {},
     "output_type": "display_data"
    },
    {
     "name": "stdout",
     "output_type": "stream",
     "text": [
      "title:DAYS_REGISTRATION\n"
     ]
    },
    {
     "data": {
      "image/png": "[encoded data removed]",
      "text/plain": [
       "<matplotlib.figure.Figure at 0x966cac8>"
      ]
     },
     "metadata": {},
     "output_type": "display_data"
    },
    {
     "name": "stdout",
     "output_type": "stream",
     "text": [
      "title:OWN_CAR_AGE\n"
     ]
    },
    {
     "data": {
      "image/png": "[encoded data removed]",
      "text/plain": [
       "<matplotlib.figure.Figure at 0x93e5c88>"
      ]
     },
     "metadata": {},
     "output_type": "display_data"
    },
    {
     "name": "stdout",
     "output_type": "stream",
     "text": [
      "title:CNT_FAM_MEMBERS\n"
     ]
    },
    {
     "data": {
      "image/png": "[encoded data removed]",
      "text/plain": [
       "<matplotlib.figure.Figure at 0x95eb550>"
      ]
     },
     "metadata": {},
     "output_type": "display_data"
    },
    {
     "name": "stdout",
     "output_type": "stream",
     "text": [
      "title:EXT_SOURCE_1\n"
     ]
    },
    {
     "data": {
      "image/png": "[encoded data removed]",
      "text/plain": [
       "<matplotlib.figure.Figure at 0x97ab780>"
      ]
     },
     "metadata": {},
     "output_type": "display_data"
    },
    {
     "name": "stdout",
     "output_type": "stream",
     "text": [
      "title:EXT_SOURCE_2\n"
     ]
    },
    {
     "data": {
      "image/png": "[encoded data removed]",
      "text/plain": [
       "<matplotlib.figure.Figure at 0x964e208>"
      ]
     },
     "metadata": {},
     "output_type": "display_data"
    },
    {
     "name": "stdout",
     "output_type": "stream",
     "text": [
      "title:EXT_SOURCE_3\n"
     ]
    },
    {
     "data": {
      "image/png": "[encoded data removed]",
      "text/plain": [
       "<matplotlib.figure.Figure at 0x96aa780>"
      ]
     },
     "metadata": {},
     "output_type": "display_data"
    },
    {
     "name": "stdout",
     "output_type": "stream",
     "text": [
      "title:APARTMENTS_AVG\n"
     ]
    },
    {
     "data": {
      "image/png": "[encoded data removed]",
      "text/plain": [
       "<matplotlib.figure.Figure at 0x9348940>"
      ]
     },
     "metadata": {},
     "output_type": "display_data"
    },
    {
     "name": "stdout",
     "output_type": "stream",
     "text": [
      "title:BASEMENTAREA_AVG\n"
     ]
    },
    {
     "data": {
      "image/png": "[encoded data removed]",
      "text/plain": [
       "<matplotlib.figure.Figure at 0x95e9940>"
      ]
     },
     "metadata": {},
     "output_type": "display_data"
    },
    {
     "name": "stdout",
     "output_type": "stream",
     "text": [
      "title:YEARS_BEGINEXPLUATATION_AVG\n"
     ]
    },
    {
     "data": {
      "image/png": "[encoded data removed]",
      "text/plain": [
       "<matplotlib.figure.Figure at 0x939d080>"
      ]
     },
     "metadata": {},
     "output_type": "display_data"
    },
    {
     "name": "stdout",
     "output_type": "stream",
     "text": [
      "title:YEARS_BUILD_AVG\n"
     ]
    },
    {
     "data": {
      "image/png": "[encoded data removed]",
      "text/plain": [
       "<matplotlib.figure.Figure at 0x913dba8>"
      ]
     },
     "metadata": {},
     "output_type": "display_data"
    },
    {
     "name": "stdout",
     "output_type": "stream",
     "text": [
      "title:COMMONAREA_AVG\n"
     ]
    },
    {
     "data": {
      "image/png": "[encoded data removed]",
      "text/plain": [
       "<matplotlib.figure.Figure at 0x9659d68>"
      ]
     },
     "metadata": {},
     "output_type": "display_data"
    },
    {
     "name": "stdout",
     "output_type": "stream",
     "text": [
      "title:ELEVATORS_AVG\n"
     ]
    },
    {
     "data": {
      "image/png": "[encoded data removed]",
      "text/plain": [
       "<matplotlib.figure.Figure at 0x9345668>"
      ]
     },
     "metadata": {},
     "output_type": "display_data"
    },
    {
     "name": "stdout",
     "output_type": "stream",
     "text": [
      "title:ENTRANCES_AVG\n"
     ]
    },
    {
     "data": {
      "image/png": "[encoded data removed]",
      "text/plain": [
       "<matplotlib.figure.Figure at 0x94964e0>"
      ]
     },
     "metadata": {},
     "output_type": "display_data"
    },
    {
     "name": "stdout",
     "output_type": "stream",
     "text": [
      "title:FLOORSMAX_AVG\n"
     ]
    },
    {
     "data": {
      "image/png": "[encoded data removed]",
      "text/plain": [
       "<matplotlib.figure.Figure at 0x97beba8>"
      ]
     },
     "metadata": {},
     "output_type": "display_data"
    },
    {
     "name": "stdout",
     "output_type": "stream",
     "text": [
      "title:FLOORSMIN_AVG\n"
     ]
    },
    {
     "data": {
      "image/png": "[encoded data removed]",
      "text/plain": [
       "<matplotlib.figure.Figure at 0x96c3b38>"
      ]
     },
     "metadata": {},
     "output_type": "display_data"
    },
    {
     "name": "stdout",
     "output_type": "stream",
     "text": [
      "title:LANDAREA_AVG\n"
     ]
    },
    {
     "data": {
      "image/png": "[encoded data removed]",
      "text/plain": [
       "<matplotlib.figure.Figure at 0x97daef0>"
      ]
     },
     "metadata": {},
     "output_type": "display_data"
    },
    {
     "name": "stdout",
     "output_type": "stream",
     "text": [
      "title:LIVINGAPARTMENTS_AVG\n"
     ]
    },
    {
     "data": {
      "image/png": "[encoded data removed]",
      "text/plain": [
       "<matplotlib.figure.Figure at 0x9732b70>"
      ]
     },
     "metadata": {},
     "output_type": "display_data"
    },
    {
     "name": "stdout",
     "output_type": "stream",
     "text": [
      "title:LIVINGAREA_AVG\n"
     ]
    },
    {
     "data": {
      "image/png": "[encoded data removed]",
      "text/plain": [
       "<matplotlib.figure.Figure at 0x9795550>"
      ]
     },
     "metadata": {},
     "output_type": "display_data"
    },
    {
     "name": "stdout",
     "output_type": "stream",
     "text": [
      "title:NONLIVINGAPARTMENTS_AVG\n"
     ]
    },
    {
     "data": {
      "image/png": "[encoded data removed]",
      "text/plain": [
       "<matplotlib.figure.Figure at 0x95cdbe0>"
      ]
     },
     "metadata": {},
     "output_type": "display_data"
    },
    {
     "name": "stdout",
     "output_type": "stream",
     "text": [
      "title:NONLIVINGAREA_AVG\n"
     ]
    },
    {
     "data": {
      "image/png": "[encoded data removed]",
      "text/plain": [
       "<matplotlib.figure.Figure at 0x94d42b0>"
      ]
     },
     "metadata": {},
     "output_type": "display_data"
    },
    {
     "name": "stdout",
     "output_type": "stream",
     "text": [
      "title:APARTMENTS_MODE\n"
     ]
    },
    {
     "data": {
      "image/png": "[encoded data removed]",
      "text/plain": [
       "<matplotlib.figure.Figure at 0x91a7cc0>"
      ]
     },
     "metadata": {},
     "output_type": "display_data"
    },
    {
     "name": "stdout",
     "output_type": "stream",
     "text": [
      "title:BASEMENTAREA_MODE\n"
     ]
    },
    {
     "data": {
      "image/png": "[encoded data removed]",
      "text/plain": [
       "<matplotlib.figure.Figure at 0x95597b8>"
      ]
     },
     "metadata": {},
     "output_type": "display_data"
    },
    {
     "name": "stdout",
     "output_type": "stream",
     "text": [
      "title:YEARS_BEGINEXPLUATATION_MODE\n"
     ]
    },
    {
     "data": {
      "image/png": "[encoded data removed]",
      "text/plain": [
       "<matplotlib.figure.Figure at 0x94ddfd0>"
      ]
     },
     "metadata": {},
     "output_type": "display_data"
    },
    {
     "name": "stdout",
     "output_type": "stream",
     "text": [
      "title:YEARS_BUILD_MODE\n"
     ]
    },
    {
     "data": {
      "image/png": "[encoded data removed]",
      "text/plain": [
       "<matplotlib.figure.Figure at 0x9560be0>"
      ]
     },
     "metadata": {},
     "output_type": "display_data"
    },
    {
     "name": "stdout",
     "output_type": "stream",
     "text": [
      "title:COMMONAREA_MODE\n"
     ]
    },
    {
     "data": {
      "image/png": "[encoded data removed]",
      "text/plain": [
       "<matplotlib.figure.Figure at 0x93d5668>"
      ]
     },
     "metadata": {},
     "output_type": "display_data"
    },
    {
     "name": "stdout",
     "output_type": "stream",
     "text": [
      "title:ELEVATORS_MODE\n"
     ]
    },
    {
     "data": {
      "image/png": "[encoded data removed]",
      "text/plain": [
       "<matplotlib.figure.Figure at 0x9638390>"
      ]
     },
     "metadata": {},
     "output_type": "display_data"
    },
    {
     "name": "stdout",
     "output_type": "stream",
     "text": [
      "title:ENTRANCES_MODE\n"
     ]
    },
    {
     "data": {
      "image/png": "[encoded data removed]",
      "text/plain": [
       "<matplotlib.figure.Figure at 0x9653518>"
      ]
     },
     "metadata": {},
     "output_type": "display_data"
    },
    {
     "name": "stdout",
     "output_type": "stream",
     "text": [
      "title:FLOORSMAX_MODE\n"
     ]
    },
    {
     "data": {
      "image/png": "[encoded data removed]",
      "text/plain": [
       "<matplotlib.figure.Figure at 0x973fb38>"
      ]
     },
     "metadata": {},
     "output_type": "display_data"
    },
    {
     "name": "stdout",
     "output_type": "stream",
     "text": [
      "title:FLOORSMIN_MODE\n"
     ]
    },
    {
     "data": {
      "image/png": "[encoded data removed]",
      "text/plain": [
       "<matplotlib.figure.Figure at 0x9746f60>"
      ]
     },
     "metadata": {},
     "output_type": "display_data"
    },
    {
     "name": "stdout",
     "output_type": "stream",
     "text": [
      "title:LANDAREA_MODE\n"
     ]
    },
    {
     "data": {
      "image/png": "[encoded data removed]",
      "text/plain": [
       "<matplotlib.figure.Figure at 0x97a8c88>"
      ]
     },
     "metadata": {},
     "output_type": "display_data"
    },
    {
     "name": "stdout",
     "output_type": "stream",
     "text": [
      "title:LIVINGAPARTMENTS_MODE\n"
     ]
    },
    {
     "data": {
      "image/png": "[encoded data removed]",
      "text/plain": [
       "<matplotlib.figure.Figure at 0x95aa550>"
      ]
     },
     "metadata": {},
     "output_type": "display_data"
    },
    {
     "name": "stdout",
     "output_type": "stream",
     "text": [
      "title:LIVINGAREA_MODE\n"
     ]
    },
    {
     "data": {
      "image/png": "[encoded data removed]",
      "text/plain": [
       "<matplotlib.figure.Figure at 0x94dc668>"
      ]
     },
     "metadata": {},
     "output_type": "display_data"
    },
    {
     "name": "stdout",
     "output_type": "stream",
     "text": [
      "title:NONLIVINGAPARTMENTS_MODE\n"
     ]
    },
    {
     "data": {
      "image/png": "[encoded data removed]",
      "text/plain": [
       "<matplotlib.figure.Figure at 0x961d6d8>"
      ]
     },
     "metadata": {},
     "output_type": "display_data"
    },
    {
     "name": "stdout",
     "output_type": "stream",
     "text": [
      "title:NONLIVINGAREA_MODE\n"
     ]
    },
    {
     "data": {
      "image/png": "[encoded data removed]",
      "text/plain": [
       "<matplotlib.figure.Figure at 0x5512518>"
      ]
     },
     "metadata": {},
     "output_type": "display_data"
    },
    {
     "name": "stdout",
     "output_type": "stream",
     "text": [
      "title:APARTMENTS_MEDI\n"
     ]
    },
    {
     "data": {
      "image/png": "[encoded data removed]",
      "text/plain": [
       "<matplotlib.figure.Figure at 0x960a9e8>"
      ]
     },
     "metadata": {},
     "output_type": "display_data"
    },
    {
     "name": "stdout",
     "output_type": "stream",
     "text": [
      "title:BASEMENTAREA_MEDI\n"
     ]
    },
    {
     "data": {
      "image/png": "[encoded data removed]",
      "text/plain": [
       "<matplotlib.figure.Figure at 0x96f76a0>"
      ]
     },
     "metadata": {},
     "output_type": "display_data"
    },
    {
     "name": "stdout",
     "output_type": "stream",
     "text": [
      "title:YEARS_BEGINEXPLUATATION_MEDI\n"
     ]
    },
    {
     "data": {
      "image/png": "[encoded data removed]",
      "text/plain": [
       "<matplotlib.figure.Figure at 0x9773eb8>"
      ]
     },
     "metadata": {},
     "output_type": "display_data"
    },
    {
     "name": "stdout",
     "output_type": "stream",
     "text": [
      "title:YEARS_BUILD_MEDI\n"
     ]
    },
    {
     "data": {
      "image/png": "[encoded data removed]",
      "text/plain": [
       "<matplotlib.figure.Figure at 0x9384780>"
      ]
     },
     "metadata": {},
     "output_type": "display_data"
    },
    {
     "name": "stdout",
     "output_type": "stream",
     "text": [
      "title:COMMONAREA_MEDI\n"
     ]
    },
    {
     "data": {
      "image/png": "[encoded data removed]",
      "text/plain": [
       "<matplotlib.figure.Figure at 0x93004e0>"
      ]
     },
     "metadata": {},
     "output_type": "display_data"
    },
    {
     "name": "stdout",
     "output_type": "stream",
     "text": [
      "title:ELEVATORS_MEDI\n"
     ]
    },
    {
     "data": {
      "image/png": "[encoded data removed]",
      "text/plain": [
       "<matplotlib.figure.Figure at 0x93f3518>"
      ]
     },
     "metadata": {},
     "output_type": "display_data"
    },
    {
     "name": "stdout",
     "output_type": "stream",
     "text": [
      "title:ENTRANCES_MEDI\n"
     ]
    },
    {
     "data": {
      "image/png": "[encoded data removed]",
      "text/plain": [
       "<matplotlib.figure.Figure at 0x96b8c88>"
      ]
     },
     "metadata": {},
     "output_type": "display_data"
    },
    {
     "name": "stdout",
     "output_type": "stream",
     "text": [
      "title:FLOORSMAX_MEDI\n"
     ]
    },
    {
     "data": {
      "image/png": "[encoded data removed]",
      "text/plain": [
       "<matplotlib.figure.Figure at 0x97dbd68>"
      ]
     },
     "metadata": {},
     "output_type": "display_data"
    },
    {
     "name": "stdout",
     "output_type": "stream",
     "text": [
      "title:FLOORSMIN_MEDI\n"
     ]
    },
    {
     "data": {
      "image/png": "[encoded data removed]",
      "text/plain": [
       "<matplotlib.figure.Figure at 0x93c7b00>"
      ]
     },
     "metadata": {},
     "output_type": "display_data"
    },
    {
     "name": "stdout",
     "output_type": "stream",
     "text": [
      "title:LANDAREA_MEDI\n"
     ]
    },
    {
     "data": {
      "image/png": "[encoded data removed]",
      "text/plain": [
       "<matplotlib.figure.Figure at 0x93f3c88>"
      ]
     },
     "metadata": {},
     "output_type": "display_data"
    },
    {
     "name": "stdout",
     "output_type": "stream",
     "text": [
      "title:LIVINGAPARTMENTS_MEDI\n"
     ]
    },
    {
     "data": {
      "image/png": "[encoded data removed]",
      "text/plain": [
       "<matplotlib.figure.Figure at 0x9556358>"
      ]
     },
     "metadata": {},
     "output_type": "display_data"
    },
    {
     "name": "stdout",
     "output_type": "stream",
     "text": [
      "title:LIVINGAREA_MEDI\n"
     ]
    },
    {
     "data": {
      "image/png": "[encoded data removed]",
      "text/plain": [
       "<matplotlib.figure.Figure at 0x3808320>"
      ]
     },
     "metadata": {},
     "output_type": "display_data"
    },
    {
     "name": "stdout",
     "output_type": "stream",
     "text": [
      "title:NONLIVINGAPARTMENTS_MEDI\n"
     ]
    },
    {
     "data": {
      "image/png": "[encoded data removed]",
      "text/plain": [
       "<matplotlib.figure.Figure at 0x961d710>"
      ]
     },
     "metadata": {},
     "output_type": "display_data"
    },
    {
     "name": "stdout",
     "output_type": "stream",
     "text": [
      "title:NONLIVINGAREA_MEDI\n"
     ]
    },
    {
     "data": {
      "image/png": "[encoded data removed]",
      "text/plain": [
       "<matplotlib.figure.Figure at 0x9217908>"
      ]
     },
     "metadata": {},
     "output_type": "display_data"
    },
    {
     "name": "stdout",
     "output_type": "stream",
     "text": [
      "title:TOTALAREA_MODE\n"
     ]
    },
    {
     "data": {
      "image/png": "[encoded data removed]",
      "text/plain": [
       "<matplotlib.figure.Figure at 0x97be860>"
      ]
     },
     "metadata": {},
     "output_type": "display_data"
    },
    {
     "name": "stdout",
     "output_type": "stream",
     "text": [
      "title:OBS_30_CNT_SOCIAL_CIRCLE\n"
     ]
    },
    {
     "data": {
      "image/png": "[encoded data removed]",
      "text/plain": [
       "<matplotlib.figure.Figure at 0x96d6eb8>"
      ]
     },
     "metadata": {},
     "output_type": "display_data"
    },
    {
     "name": "stdout",
     "output_type": "stream",
     "text": [
      "title:DEF_30_CNT_SOCIAL_CIRCLE\n"
     ]
    },
    {
     "data": {
      "image/png": "[encoded data removed]",
      "text/plain": [
       "<matplotlib.figure.Figure at 0x9641668>"
      ]
     },
     "metadata": {},
     "output_type": "display_data"
    },
    {
     "name": "stdout",
     "output_type": "stream",
     "text": [
      "title:OBS_60_CNT_SOCIAL_CIRCLE\n"
     ]
    },
    {
     "data": {
      "image/png": "[encoded data removed]",
      "text/plain": [
       "<matplotlib.figure.Figure at 0x9418cf8>"
      ]
     },
     "metadata": {},
     "output_type": "display_data"
    },
    {
     "name": "stdout",
     "output_type": "stream",
     "text": [
      "title:DEF_60_CNT_SOCIAL_CIRCLE\n"
     ]
    },
    {
     "data": {
      "image/png": "[encoded data removed]",
      "text/plain": [
       "<matplotlib.figure.Figure at 0x91f5518>"
      ]
     },
     "metadata": {},
     "output_type": "display_data"
    },
    {
     "name": "stdout",
     "output_type": "stream",
     "text": [
      "title:DAYS_LAST_PHONE_CHANGE\n"
     ]
    },
    {
     "data": {
      "image/png": "[encoded data removed]",
      "text/plain": [
       "<matplotlib.figure.Figure at 0x97a6c88>"
      ]
     },
     "metadata": {},
     "output_type": "display_data"
    },
    {
     "name": "stdout",
     "output_type": "stream",
     "text": [
      "title:AMT_REQ_CREDIT_BUREAU_HOUR\n"
     ]
    },
    {
     "data": {
      "image/png": "[encoded data removed]",
      "text/plain": [
       "<matplotlib.figure.Figure at 0x9765ef0>"
      ]
     },
     "metadata": {},
     "output_type": "display_data"
    },
    {
     "name": "stdout",
     "output_type": "stream",
     "text": [
      "title:AMT_REQ_CREDIT_BUREAU_DAY\n"
     ]
    },
    {
     "data": {
      "image/png": "[encoded data removed]",
      "text/plain": [
       "<matplotlib.figure.Figure at 0x9474e48>"
      ]
     },
     "metadata": {},
     "output_type": "display_data"
    },
    {
     "name": "stdout",
     "output_type": "stream",
     "text": [
      "title:AMT_REQ_CREDIT_BUREAU_WEEK\n"
     ]
    },
    {
     "data": {
      "image/png": "[encoded data removed]",
      "text/plain": [
       "<matplotlib.figure.Figure at 0x96e1ef0>"
      ]
     },
     "metadata": {},
     "output_type": "display_data"
    },
    {
     "name": "stdout",
     "output_type": "stream",
     "text": [
      "title:AMT_REQ_CREDIT_BUREAU_MON\n"
     ]
    },
    {
     "data": {
      "image/png": "[encoded data removed]",
      "text/plain": [
       "<matplotlib.figure.Figure at 0x9348160>"
      ]
     },
     "metadata": {},
     "output_type": "display_data"
    },
    {
     "name": "stdout",
     "output_type": "stream",
     "text": [
      "title:AMT_REQ_CREDIT_BUREAU_QRT\n"
     ]
    },
    {
     "data": {
      "image/png": "[encoded data removed]",
      "text/plain": [
       "<matplotlib.figure.Figure at 0x9322b00>"
      ]
     },
     "metadata": {},
     "output_type": "display_data"
    },
    {
     "name": "stdout",
     "output_type": "stream",
     "text": [
      "title:AMT_REQ_CREDIT_BUREAU_YEAR\n"
     ]
    },
    {
     "data": {
      "image/png": "[encoded data removed]",
      "text/plain": [
       "<matplotlib.figure.Figure at 0x913d6a0>"
      ]
     },
     "metadata": {},
     "output_type": "display_data"
    }
   ],
   "source": [
    "# 先篩選數值型的欄位\n",
    "\"\"\"\n",
    "YOUR CODE HERE, fill correct data types (for example str, float, int, ...)\n",
    "\"\"\"\n",
    "dtype_select = [np.dtype('float')]\n",
    "\n",
    "numeric_columns = list(app_train.columns[list(app_train.dtypes.isin(dtype_select))])\n",
    "\n",
    "# 再把只有 2 值 (通常是 0,1) 的欄位去掉\n",
    "numeric_columns = list(app_train[numeric_columns].columns[list(app_train[numeric_columns].apply(lambda x:len(x.unique())!=2 ))])\n",
    "print(\"Numbers of remain columns%0.2f\" % len(numeric_columns))\n",
    "\n",
    "# 檢視這些欄位的數值範圍\n",
    "for col in numeric_columns:\n",
    "    \"\"\"\n",
    "    Your CODE HERE, make the box plot\n",
    "    \"\"\"\n",
    "    print('title:'+col)\n",
    "    plt.boxplot(app_train[col])\n",
    "    plt.show()"
   ]
  },
  {
   "cell_type": "code",
   "execution_count": null,
   "metadata": {},
   "outputs": [],
   "source": [
    "# 從上面的圖檢查的結果，至少這三個欄位好像有點可疑\n",
    "\n",
    "# AMT_INCOME_TOTAL\n",
    "# REGION_POPULATION_RELATIVE\n",
    "# OBS_60_CNT_SOCIAL_CIRCLE"
   ]
  },
  {
   "cell_type": "markdown",
   "metadata": {},
   "source": [
    "### Hints: Emprical Cumulative Density Plot, [ECDF](https://zh.wikipedia.org/wiki/%E7%BB%8F%E9%AA%8C%E5%88%86%E5%B8%83%E5%87%BD%E6%95%B0), [ECDF with Python](https://stackoverflow.com/questions/14006520/ecdf-in-python-without-step-function)"
   ]
  },
  {
   "cell_type": "code",
   "execution_count": 21,
   "metadata": {
    "scrolled": true
   },
   "outputs": [
    {
     "name": "stdout",
     "output_type": "stream",
     "text": [
      "count    3.075110e+05\n",
      "mean     1.687979e+05\n",
      "std      2.371231e+05\n",
      "min      2.565000e+04\n",
      "25%      1.125000e+05\n",
      "50%      1.471500e+05\n",
      "75%      2.025000e+05\n",
      "max      1.170000e+08\n",
      "Name: AMT_INCOME_TOTAL, dtype: float64\n"
     ]
    }
   ],
   "source": [
    "print(app_train['AMT_INCOME_TOTAL'].describe())"
   ]
  },
  {
   "cell_type": "code",
   "execution_count": 26,
   "metadata": {},
   "outputs": [
    {
     "data": {
      "text/plain": [
       "25650.0"
      ]
     },
     "execution_count": 26,
     "metadata": {},
     "output_type": "execute_result"
    }
   ],
   "source": [
    "cdf.x[1]"
   ]
  },
  {
   "cell_type": "code",
   "execution_count": 25,
   "metadata": {
    "scrolled": true
   },
   "outputs": [
    {
     "data": {
      "image/png": "[encoded data removed]",
      "text/plain": [
       "<matplotlib.figure.Figure at 0xa693e80>"
      ]
     },
     "metadata": {},
     "output_type": "display_data"
    }
   ],
   "source": [
    "import statsmodels.api as sm  \n",
    "\n",
    "cdf = sm.distributions.ECDF(app_train['AMT_INCOME_TOTAL'])  \n",
    "\n",
    "plt.plot(cdf.x, cdf.y) \n",
    "plt.xlabel('Value')\n",
    "plt.ylabel('CDF')\n",
    "plt.xlim([cdf.x[1],cdf.x[-1]*1.05])\n",
    "plt.ylim([-0.05,1.05])\n",
    "plt.show()\n"
   ]
  },
  {
   "cell_type": "code",
   "execution_count": 36,
   "metadata": {},
   "outputs": [
    {
     "data": {
      "text/plain": [
       "<function list.index>"
      ]
     },
     "execution_count": 36,
     "metadata": {},
     "output_type": "execute_result"
    }
   ],
   "source": [
    "[cdf].index"
   ]
  },
  {
   "cell_type": "code",
   "execution_count": 45,
   "metadata": {},
   "outputs": [
    {
     "name": "stderr",
     "output_type": "stream",
     "text": [
      "D:\\Anaconda3\\envs\\Python\\lib\\site-packages\\ipykernel_launcher.py:1: RuntimeWarning: invalid value encountered in log\n",
      "  \"\"\"Entry point for launching an IPython kernel.\n"
     ]
    },
    {
     "ename": "AttributeError",
     "evalue": "'ECDF' object has no attribute 'index'",
     "output_type": "error",
     "traceback": [
      "\u001b[1;31m---------------------------------------------------------------------------\u001b[0m",
      "\u001b[1;31mAttributeError\u001b[0m                            Traceback (most recent call last)",
      "\u001b[1;32m<ipython-input-45-25cc7b94031b>\u001b[0m in \u001b[0;36m<module>\u001b[1;34m()\u001b[0m\n\u001b[0;32m      2\u001b[0m \u001b[0mplt\u001b[0m\u001b[1;33m.\u001b[0m\u001b[0mxlabel\u001b[0m\u001b[1;33m(\u001b[0m\u001b[1;34m'Value'\u001b[0m\u001b[1;33m)\u001b[0m\u001b[1;33m\u001b[0m\u001b[0m\n\u001b[0;32m      3\u001b[0m \u001b[0mplt\u001b[0m\u001b[1;33m.\u001b[0m\u001b[0mylabel\u001b[0m\u001b[1;33m(\u001b[0m\u001b[1;34m'ECDF'\u001b[0m\u001b[1;33m)\u001b[0m\u001b[1;33m\u001b[0m\u001b[0m\n\u001b[1;32m----> 4\u001b[1;33m \u001b[0mplt\u001b[0m\u001b[1;33m.\u001b[0m\u001b[0mxlim\u001b[0m\u001b[1;33m(\u001b[0m\u001b[1;33m[\u001b[0m\u001b[0mcdf\u001b[0m\u001b[1;33m.\u001b[0m\u001b[0mindex\u001b[0m\u001b[1;33m.\u001b[0m\u001b[0mmin\u001b[0m\u001b[1;33m(\u001b[0m\u001b[1;33m)\u001b[0m\u001b[1;33m,\u001b[0m \u001b[0mcdf\u001b[0m\u001b[1;33m.\u001b[0m\u001b[0mindex\u001b[0m\u001b[1;33m.\u001b[0m\u001b[0mmax\u001b[0m\u001b[1;33m(\u001b[0m\u001b[1;33m)\u001b[0m \u001b[1;33m*\u001b[0m \u001b[1;36m1.05\u001b[0m\u001b[1;33m]\u001b[0m\u001b[1;33m)\u001b[0m \u001b[1;31m# 限制顯示圖片的範圍\u001b[0m\u001b[1;33m\u001b[0m\u001b[0m\n\u001b[0m\u001b[0;32m      5\u001b[0m \u001b[0mplt\u001b[0m\u001b[1;33m.\u001b[0m\u001b[0mylim\u001b[0m\u001b[1;33m(\u001b[0m\u001b[1;33m[\u001b[0m\u001b[1;33m-\u001b[0m\u001b[1;36m0.05\u001b[0m\u001b[1;33m,\u001b[0m\u001b[1;36m1.05\u001b[0m\u001b[1;33m]\u001b[0m\u001b[1;33m)\u001b[0m\u001b[1;33m\u001b[0m\u001b[0m\n",
      "\u001b[1;31mAttributeError\u001b[0m: 'ECDF' object has no attribute 'index'"
     ]
    },
    {
     "data": {
      "image/png": "[encoded data removed]",
      "text/plain": [
       "<matplotlib.figure.Figure at 0xbf4f780>"
      ]
     },
     "metadata": {},
     "output_type": "display_data"
    }
   ],
   "source": [
    "plt.plot(np.log(cdf.x), cdf.y)\n",
    "plt.xlabel('Value')\n",
    "plt.ylabel('ECDF')\n",
    "plt.xlim([cdf.index.min(), cdf.index.max() * 1.05]) # 限制顯示圖片的範圍\n",
    "plt.ylim([-0.05,1.05])"
   ]
  },
  {
   "cell_type": "code",
   "execution_count": null,
   "metadata": {},
   "outputs": [],
   "source": [
    "\n",
    "\n",
    "ecdf = sm.distributions.ECDF(xx)\n",
    "\n",
    "plt.plot(cdf.x, cdf.y) \n",
    "plt.xlabel('Value') \n",
    "plt.ylabel('ECDF') \n",
    "plt.xlim([cdf.x[1], cdf.x[-1] * 1.05]) # 限制顯示圖片的範圍 \n",
    "plt.ylim([-0.05,1.05]) # 限制顯示圖片的範圍 \n",
    "plt.show() \n",
    "\n",
    "plt.plot(list(cdf.index), cdf/cdf.max())\n",
    "plt.xlabel('Value')\n",
    "plt.ylabel('ECDF')\n",
    "plt.xlim([cdf.index.min(), cdf.index.max() * 1.05]) # 限制顯示圖片的範圍\n",
    "plt.ylim([-0.05,1.05]) # 限制顯示圖片的範圍\n",
    "\n",
    "plt.show()"
   ]
  },
  {
   "cell_type": "code",
   "execution_count": null,
   "metadata": {},
   "outputs": [],
   "source": [
    "# 最大值離平均與中位數很遠\n",
    "print(app_train['AMT_INCOME_TOTAL'].describe())\n",
    "\n",
    "# 繪製 Empirical Cumulative Density Plot (ECDF)\n",
    "\"\"\"\n",
    "YOUR CODE HERE\n",
    "\"\"\"\n",
    "xx = np.random.randn(nobs)\n",
    "cdf = sm.distributions.ECDF(xx)\n",
    "\n",
    "\n",
    "\n",
    "plt.plot(list(cdf.index), cdf/cdf.max())\n",
    "plt.xlabel('Value')\n",
    "plt.ylabel('ECDF')\n",
    "plt.xlim([cdf.index.min(), cdf.index.max() * 1.05]) # 限制顯示圖片的範圍\n",
    "plt.ylim([-0.05,1.05]) # 限制顯示圖片的範圍\n",
    "\n",
    "plt.show()\n",
    "\n",
    "# 改變 y 軸的 Scale, 讓我們可以正常檢視 ECDF\n",
    "plt.plot(np.log(list(cdf.index)), cdf/cdf.max())\n",
    "plt.xlabel('Value (log-scale)')\n",
    "plt.ylabel('ECDF')\n",
    "\n",
    "plt.ylim([-0.05,1.05]) # 限制顯示圖片的範圍\n",
    "\n",
    "plt.show()"
   ]
  },
  {
   "cell_type": "markdown",
   "metadata": {},
   "source": [
    "## 補充：Normal dist 的 ECDF\n",
    "![ecdf_normal](https://au.mathworks.com/help/examples/stats/win64/PlotEmpiricalCdfAndCompareWithSamplingDistributionExample_01.png)"
   ]
  },
  {
   "cell_type": "code",
   "execution_count": 51,
   "metadata": {},
   "outputs": [
    {
     "name": "stdout",
     "output_type": "stream",
     "text": [
      "count    307511.000000\n",
      "mean          0.020868\n",
      "std           0.013831\n",
      "min           0.000290\n",
      "25%           0.010006\n",
      "50%           0.018850\n",
      "75%           0.028663\n",
      "max           0.072508\n",
      "Name: REGION_POPULATION_RELATIVE, dtype: float64\n"
     ]
    },
    {
     "name": "stderr",
     "output_type": "stream",
     "text": [
      "D:\\Anaconda3\\envs\\Python\\lib\\site-packages\\ipykernel_launcher.py:11: RuntimeWarning: invalid value encountered in log\n",
      "  # This is added back by InteractiveShellApp.init_path()\n"
     ]
    },
    {
     "data": {
      "image/png": "[encoded data removed]",
      "text/plain": [
       "<matplotlib.figure.Figure at 0xbf36fd0>"
      ]
     },
     "metadata": {},
     "output_type": "display_data"
    },
    {
     "data": {
      "image/png": "[encoded data removed]",
      "text/plain": [
       "<matplotlib.figure.Figure at 0xbfa7710>"
      ]
     },
     "metadata": {},
     "output_type": "display_data"
    },
    {
     "data": {
      "text/plain": [
       "0.035792    16408\n",
       "0.046220    13442\n",
       "0.030755    12163\n",
       "0.025164    11950\n",
       "0.026392    11601\n",
       "0.031329    11321\n",
       "0.028663    11157\n",
       "0.019101     8694\n",
       "0.072508     8412\n",
       "0.020713     8066\n",
       "0.018850     7668\n",
       "0.020246     7178\n",
       "0.018634     7038\n",
       "0.022625     6943\n",
       "0.015221     6824\n",
       "0.032561     6636\n",
       "0.024610     6404\n",
       "0.019689     6172\n",
       "0.018029     6167\n",
       "0.018801     6108\n",
       "0.018209     6052\n",
       "0.014520     4785\n",
       "0.016612     4408\n",
       "0.007020     4105\n",
       "0.022800     3807\n",
       "0.010032     3570\n",
       "0.010006     3563\n",
       "0.014464     3422\n",
       "0.004960     3300\n",
       "0.011703     3252\n",
       "            ...  \n",
       "0.006008     1796\n",
       "0.003069     1783\n",
       "0.008575     1763\n",
       "0.008474     1740\n",
       "0.007274     1724\n",
       "0.007114     1684\n",
       "0.006305     1672\n",
       "0.008068     1668\n",
       "0.008866     1654\n",
       "0.006671     1653\n",
       "0.002042     1642\n",
       "0.003813     1616\n",
       "0.005084     1482\n",
       "0.006296     1225\n",
       "0.005313     1218\n",
       "0.003818     1212\n",
       "0.003122     1147\n",
       "0.006233     1087\n",
       "0.005002     1068\n",
       "0.002134     1051\n",
       "0.004849     1038\n",
       "0.005144      967\n",
       "0.002506      944\n",
       "0.003541      627\n",
       "0.001276      558\n",
       "0.001417      467\n",
       "0.001333      235\n",
       "0.000533       39\n",
       "0.000938       28\n",
       "0.000290        2\n",
       "Name: REGION_POPULATION_RELATIVE, Length: 81, dtype: int64"
      ]
     },
     "execution_count": 51,
     "metadata": {},
     "output_type": "execute_result"
    }
   ],
   "source": [
    "# 最大值落在分布之外\n",
    "print(app_train['REGION_POPULATION_RELATIVE'].describe())\n",
    "\n",
    "# 繪製 Empirical Cumulative Density Plot (ECDF)\n",
    "\"\"\"\n",
    "Your Code Here\n",
    "\"\"\"\n",
    "cdf = sm.distributions.ECDF(app_train['REGION_POPULATION_RELATIVE'])\n",
    "\n",
    "\n",
    "plt.plot(np.log(cdf.x), cdf.y)\n",
    "plt.xlabel('Value')\n",
    "plt.ylabel('ECDF')\n",
    "plt.ylim([-0.05,1.05]) # 限制顯示圖片的範圍\n",
    "plt.show()\n",
    "\n",
    "app_train['REGION_POPULATION_RELATIVE'].hist()\n",
    "plt.show()\n",
    "\n",
    "app_train['REGION_POPULATION_RELATIVE'].value_counts()\n",
    "\n",
    "# 就以這個欄位來說，雖然有資料掉在分布以外，也不算異常，僅代表這間公司在稍微熱鬧的地區有的據點較少，\n",
    "# 導致 region population relative 在少的部分較為密集，但在大的部分較為疏漏"
   ]
  },
  {
   "cell_type": "code",
   "execution_count": 54,
   "metadata": {
    "scrolled": true
   },
   "outputs": [
    {
     "name": "stdout",
     "output_type": "stream",
     "text": [
      "count    306490.000000\n",
      "mean          1.405292\n",
      "std           2.379803\n",
      "min           0.000000\n",
      "25%           0.000000\n",
      "50%           0.000000\n",
      "75%           2.000000\n",
      "max         344.000000\n",
      "Name: OBS_60_CNT_SOCIAL_CIRCLE, dtype: float64\n"
     ]
    },
    {
     "name": "stderr",
     "output_type": "stream",
     "text": [
      "D:\\Anaconda3\\envs\\Python\\lib\\site-packages\\ipykernel_launcher.py:20: RuntimeWarning: divide by zero encountered in log\n",
      "D:\\Anaconda3\\envs\\Python\\lib\\site-packages\\ipykernel_launcher.py:20: RuntimeWarning: invalid value encountered in log\n"
     ]
    },
    {
     "data": {
      "image/png": "[encoded data removed]",
      "text/plain": [
       "<matplotlib.figure.Figure at 0xc36db38>"
      ]
     },
     "metadata": {},
     "output_type": "display_data"
    },
    {
     "data": {
      "image/png": "[encoded data removed]",
      "text/plain": [
       "<matplotlib.figure.Figure at 0xc316a58>"
      ]
     },
     "metadata": {},
     "output_type": "display_data"
    },
    {
     "name": "stdout",
     "output_type": "stream",
     "text": [
      "344.0         1\n",
      "47.0          1\n",
      "30.0          1\n",
      "29.0          2\n",
      "28.0          1\n",
      "27.0          5\n",
      "26.0          1\n",
      "25.0         11\n",
      "24.0         12\n",
      "23.0         13\n",
      "22.0         20\n",
      "21.0         28\n",
      "20.0         30\n",
      "19.0         44\n",
      "18.0         49\n",
      "17.0         73\n",
      "16.0        137\n",
      "15.0        166\n",
      "14.0        238\n",
      "13.0        401\n",
      "12.0        620\n",
      "11.0        837\n",
      "10.0       1335\n",
      "9.0        1959\n",
      "8.0        2886\n",
      "7.0        4344\n",
      "6.0        6349\n",
      "5.0        9463\n",
      "4.0       13946\n",
      "3.0       20215\n",
      "2.0       29766\n",
      "1.0       48870\n",
      "0.0      164666\n",
      "Name: OBS_60_CNT_SOCIAL_CIRCLE, dtype: int64\n"
     ]
    }
   ],
   "source": [
    "# 最大值落在分布之外\n",
    "print(app_train['OBS_60_CNT_SOCIAL_CIRCLE'].describe())\n",
    "\n",
    "# 繪製 Empirical Cumulative Density Plot (ECDF)\n",
    "\"\"\"\n",
    "Your Code Here\n",
    "\n",
    "cdf = \n",
    "\n",
    "\n",
    "plt.plot(list(cdf.index), cdf/cdf.max())\n",
    "plt.xlabel('Value')\n",
    "plt.ylabel('ECDF')\n",
    "plt.xlim([cdf.index.min() * 0.95, cdf.index.max() * 1.05])\n",
    "plt.ylim([-0.05,1.05]) # 限制顯示圖片的範圍\n",
    "plt.show()\n",
    "\"\"\"\n",
    "\n",
    "cdf = sm.distributions.ECDF(app_train['OBS_60_CNT_SOCIAL_CIRCLE'])\n",
    "plt.plot(np.log(cdf.x),cdf.y)\n",
    "plt.xlabel('Value')\n",
    "plt.ylabel('ECDF')\n",
    "#plt.xlim([cdf.x*0.95,cdf.x*1.05])\n",
    "plt.ylim([-0.05,1.05])\n",
    "plt.show()\n",
    "\n",
    "app_train['OBS_60_CNT_SOCIAL_CIRCLE'].hist()\n",
    "plt.show()\n",
    "print(app_train['OBS_60_CNT_SOCIAL_CIRCLE'].value_counts().sort_index(ascending = False))"
   ]
  },
  {
   "cell_type": "markdown",
   "metadata": {},
   "source": [
    "## 注意：當 histogram 畫出上面這種圖 (只出現一條，但是 x 軸延伸很長導致右邊有一大片空白時，代表右邊有值但是數量稀少。這時可以考慮用 value_counts 去找到這些數值"
   ]
  },
  {
   "cell_type": "code",
   "execution_count": 57,
   "metadata": {},
   "outputs": [
    {
     "data": {
      "text/plain": [
       "0         True\n",
       "1         True\n",
       "2         True\n",
       "3         True\n",
       "4         True\n",
       "5         True\n",
       "6         True\n",
       "7         True\n",
       "8         True\n",
       "9         True\n",
       "10        True\n",
       "11        True\n",
       "12        True\n",
       "13        True\n",
       "14        True\n",
       "15        True\n",
       "16        True\n",
       "17        True\n",
       "18        True\n",
       "19        True\n",
       "20        True\n",
       "21        True\n",
       "22        True\n",
       "23        True\n",
       "24        True\n",
       "25        True\n",
       "26        True\n",
       "27        True\n",
       "28        True\n",
       "29        True\n",
       "          ... \n",
       "307481    True\n",
       "307482    True\n",
       "307483    True\n",
       "307484    True\n",
       "307485    True\n",
       "307486    True\n",
       "307487    True\n",
       "307488    True\n",
       "307489    True\n",
       "307490    True\n",
       "307491    True\n",
       "307492    True\n",
       "307493    True\n",
       "307494    True\n",
       "307495    True\n",
       "307496    True\n",
       "307497    True\n",
       "307498    True\n",
       "307499    True\n",
       "307500    True\n",
       "307501    True\n",
       "307502    True\n",
       "307503    True\n",
       "307504    True\n",
       "307505    True\n",
       "307506    True\n",
       "307507    True\n",
       "307508    True\n",
       "307509    True\n",
       "307510    True\n",
       "Name: OBS_60_CNT_SOCIAL_CIRCLE, Length: 307511, dtype: bool"
      ]
     },
     "execution_count": 57,
     "metadata": {},
     "output_type": "execute_result"
    }
   ],
   "source": [
    "app_train['OBS_60_CNT_SOCIAL_CIRCLE']<20"
   ]
  },
  {
   "cell_type": "code",
   "execution_count": 58,
   "metadata": {},
   "outputs": [
    {
     "data": {
      "image/png": "[encoded data removed]",
      "text/plain": [
       "<matplotlib.figure.Figure at 0xc0d9a20>"
      ]
     },
     "metadata": {},
     "output_type": "display_data"
    }
   ],
   "source": [
    "# 把一些極端值暫時去掉，在繪製一次 Histogram\n",
    "# 選擇 OBS_60_CNT_SOCIAL_CIRCLE 小於 20 的資料點繪製\n",
    "\"\"\"\n",
    "Your Code Here\n",
    "\"\"\"\n",
    "loc_a = app_train['OBS_60_CNT_SOCIAL_CIRCLE']<20\n",
    "loc_b = 'OBS_60_CNT_SOCIAL_CIRCLE'\n",
    "app_train.loc[loc_a, loc_b].hist()\n",
    "plt.show()"
   ]
  }
 ],
 "metadata": {
  "anaconda-cloud": {},
  "kernelspec": {
   "display_name": "Python 3",
   "language": "python",
   "name": "python3"
  },
  "language_info": {
   "codemirror_mode": {
    "name": "ipython",
    "version": 3
   },
   "file_extension": ".py",
   "mimetype": "text/x-python",
   "name": "python",
   "nbconvert_exporter": "python",
   "pygments_lexer": "ipython3",
   "version": "3.6.4"
  }
 },
 "nbformat": 4,
 "nbformat_minor": 1
}
