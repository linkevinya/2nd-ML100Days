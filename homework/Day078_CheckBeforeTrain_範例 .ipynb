{
 "cells": [
  {
   "cell_type": "markdown",
   "metadata": {
    "id": "XHZv0J1wZ-hi"
   },
   "source": [
    "## 範例重點\n",
    "### 學習在模型開始前檢查各個環節\n",
    "1. 是否有 GPU 資源\n",
    "2. 將前處理轉為函式，統一處理訓練、驗證與測試集\n",
    "3. 將超參數變數化，易於重複使用函式、模型等"
   ]
  },
  {
   "cell_type": "code",
   "execution_count": null,
   "metadata": {
    "colab": {
     "base_uri": "https://localhost:8080/"
    },
    "executionInfo": {
     "elapsed": 470,
     "status": "ok",
     "timestamp": 1624721164066,
     "user": {
      "displayName": "王健安",
      "photoUrl": "https://lh3.googleusercontent.com/a-/AOh14GjkOiMI1V_jlsl754oMqyZoTjSfVhzPdb4cuHdA=s64",
      "userId": "16924381174086586694"
     },
     "user_tz": -480
    },
    "id": "wDcnMI2sZ-hl",
    "outputId": "35f75a01-535a-4c87-db44-ee4f3209c2e3"
   },
   "outputs": [
    {
     "name": "stdout",
     "output_type": "stream",
     "text": [
      "Sat Jun 26 15:26:03 2021       \n",
      "+-----------------------------------------------------------------------------+\n",
      "| NVIDIA-SMI 465.27       Driver Version: 460.32.03    CUDA Version: 11.2     |\n",
      "|-------------------------------+----------------------+----------------------+\n",
      "| GPU  Name        Persistence-M| Bus-Id        Disp.A | Volatile Uncorr. ECC |\n",
      "| Fan  Temp  Perf  Pwr:Usage/Cap|         Memory-Usage | GPU-Util  Compute M. |\n",
      "|                               |                      |               MIG M. |\n",
      "|===============================+======================+======================|\n",
      "|   0  Tesla T4            Off  | 00000000:00:04.0 Off |                    0 |\n",
      "| N/A   53C    P8    10W /  70W |      0MiB / 15109MiB |      0%      Default |\n",
      "|                               |                      |                  N/A |\n",
      "+-------------------------------+----------------------+----------------------+\n",
      "                                                                               \n",
      "+-----------------------------------------------------------------------------+\n",
      "| Processes:                                                                  |\n",
      "|  GPU   GI   CI        PID   Type   Process name                  GPU Memory |\n",
      "|        ID   ID                                                   Usage      |\n",
      "|=============================================================================|\n",
      "|  No running processes found                                                 |\n",
      "+-----------------------------------------------------------------------------+\n"
     ]
    }
   ],
   "source": [
    "## 確認硬體資源 (如果你是在 Linux, 若是在 Windows, 請參考 https://blog.csdn.net/idwtwt/article/details/78017565)\n",
    "!nvidia-smi"
   ]
  },
  {
   "cell_type": "code",
   "execution_count": 1,
   "metadata": {
    "id": "qcM2GqFKZ-hm"
   },
   "outputs": [
    {
     "name": "stderr",
     "output_type": "stream",
     "text": [
      "C:\\ProgramData\\Anaconda3\\lib\\site-packages\\tensorflow\\python\\framework\\dtypes.py:526: FutureWarning: Passing (type, 1) or '1type' as a synonym of type is deprecated; in a future version of numpy, it will be understood as (type, (1,)) / '(1,)type'.\n",
      "  _np_qint8 = np.dtype([(\"qint8\", np.int8, 1)])\n",
      "C:\\ProgramData\\Anaconda3\\lib\\site-packages\\tensorflow\\python\\framework\\dtypes.py:527: FutureWarning: Passing (type, 1) or '1type' as a synonym of type is deprecated; in a future version of numpy, it will be understood as (type, (1,)) / '(1,)type'.\n",
      "  _np_quint8 = np.dtype([(\"quint8\", np.uint8, 1)])\n",
      "C:\\ProgramData\\Anaconda3\\lib\\site-packages\\tensorflow\\python\\framework\\dtypes.py:528: FutureWarning: Passing (type, 1) or '1type' as a synonym of type is deprecated; in a future version of numpy, it will be understood as (type, (1,)) / '(1,)type'.\n",
      "  _np_qint16 = np.dtype([(\"qint16\", np.int16, 1)])\n",
      "C:\\ProgramData\\Anaconda3\\lib\\site-packages\\tensorflow\\python\\framework\\dtypes.py:529: FutureWarning: Passing (type, 1) or '1type' as a synonym of type is deprecated; in a future version of numpy, it will be understood as (type, (1,)) / '(1,)type'.\n",
      "  _np_quint16 = np.dtype([(\"quint16\", np.uint16, 1)])\n",
      "C:\\ProgramData\\Anaconda3\\lib\\site-packages\\tensorflow\\python\\framework\\dtypes.py:530: FutureWarning: Passing (type, 1) or '1type' as a synonym of type is deprecated; in a future version of numpy, it will be understood as (type, (1,)) / '(1,)type'.\n",
      "  _np_qint32 = np.dtype([(\"qint32\", np.int32, 1)])\n",
      "C:\\ProgramData\\Anaconda3\\lib\\site-packages\\tensorflow\\python\\framework\\dtypes.py:535: FutureWarning: Passing (type, 1) or '1type' as a synonym of type is deprecated; in a future version of numpy, it will be understood as (type, (1,)) / '(1,)type'.\n",
      "  np_resource = np.dtype([(\"resource\", np.ubyte, 1)])\n"
     ]
    }
   ],
   "source": [
    "import os\n",
    "from tensorflow import keras\n",
    "\n",
    "# 本範例不需使用 GPU, 將 GPU 設定為 \"無\"\n",
    "os.environ[\"CUDA_VISIBLE_DEVICES\"] = \"\""
   ]
  },
  {
   "cell_type": "code",
   "execution_count": 2,
   "metadata": {
    "colab": {
     "base_uri": "https://localhost:8080/"
    },
    "executionInfo": {
     "elapsed": 5803,
     "status": "ok",
     "timestamp": 1624721171467,
     "user": {
      "displayName": "王健安",
      "photoUrl": "https://lh3.googleusercontent.com/a-/AOh14GjkOiMI1V_jlsl754oMqyZoTjSfVhzPdb4cuHdA=s64",
      "userId": "16924381174086586694"
     },
     "user_tz": -480
    },
    "id": "8OcuuAFSZ-hn",
    "outputId": "148754e4-ea00-486f-c3c1-e6cd10b881d9"
   },
   "outputs": [],
   "source": [
    "# 從 Keras 的內建功能中，取得 train 與 test 資料集\n",
    "train, test = keras.datasets.cifar10.load_data()"
   ]
  },
  {
   "cell_type": "code",
   "execution_count": 23,
   "metadata": {},
   "outputs": [
    {
     "data": {
      "text/plain": [
       "array([[[[ 59,  62,  63],\n",
       "         [ 43,  46,  45],\n",
       "         [ 50,  48,  43],\n",
       "         ...,\n",
       "         [158, 132, 108],\n",
       "         [152, 125, 102],\n",
       "         [148, 124, 103]],\n",
       "\n",
       "        [[ 16,  20,  20],\n",
       "         [  0,   0,   0],\n",
       "         [ 18,   8,   0],\n",
       "         ...,\n",
       "         [123,  88,  55],\n",
       "         [119,  83,  50],\n",
       "         [122,  87,  57]],\n",
       "\n",
       "        [[ 25,  24,  21],\n",
       "         [ 16,   7,   0],\n",
       "         [ 49,  27,   8],\n",
       "         ...,\n",
       "         [118,  84,  50],\n",
       "         [120,  84,  50],\n",
       "         [109,  73,  42]],\n",
       "\n",
       "        ...,\n",
       "\n",
       "        [[208, 170,  96],\n",
       "         [201, 153,  34],\n",
       "         [198, 161,  26],\n",
       "         ...,\n",
       "         [160, 133,  70],\n",
       "         [ 56,  31,   7],\n",
       "         [ 53,  34,  20]],\n",
       "\n",
       "        [[180, 139,  96],\n",
       "         [173, 123,  42],\n",
       "         [186, 144,  30],\n",
       "         ...,\n",
       "         [184, 148,  94],\n",
       "         [ 97,  62,  34],\n",
       "         [ 83,  53,  34]],\n",
       "\n",
       "        [[177, 144, 116],\n",
       "         [168, 129,  94],\n",
       "         [179, 142,  87],\n",
       "         ...,\n",
       "         [216, 184, 140],\n",
       "         [151, 118,  84],\n",
       "         [123,  92,  72]]],\n",
       "\n",
       "\n",
       "       [[[154, 177, 187],\n",
       "         [126, 137, 136],\n",
       "         [105, 104,  95],\n",
       "         ...,\n",
       "         [ 91,  95,  71],\n",
       "         [ 87,  90,  71],\n",
       "         [ 79,  81,  70]],\n",
       "\n",
       "        [[140, 160, 169],\n",
       "         [145, 153, 154],\n",
       "         [125, 125, 118],\n",
       "         ...,\n",
       "         [ 96,  99,  78],\n",
       "         [ 77,  80,  62],\n",
       "         [ 71,  73,  61]],\n",
       "\n",
       "        [[140, 155, 164],\n",
       "         [139, 146, 149],\n",
       "         [115, 115, 112],\n",
       "         ...,\n",
       "         [ 79,  82,  64],\n",
       "         [ 68,  70,  55],\n",
       "         [ 67,  69,  55]],\n",
       "\n",
       "        ...,\n",
       "\n",
       "        [[175, 167, 166],\n",
       "         [156, 154, 160],\n",
       "         [154, 160, 170],\n",
       "         ...,\n",
       "         [ 42,  34,  36],\n",
       "         [ 61,  53,  57],\n",
       "         [ 93,  83,  91]],\n",
       "\n",
       "        [[165, 154, 128],\n",
       "         [156, 152, 130],\n",
       "         [159, 161, 142],\n",
       "         ...,\n",
       "         [103,  93,  96],\n",
       "         [123, 114, 120],\n",
       "         [131, 121, 131]],\n",
       "\n",
       "        [[163, 148, 120],\n",
       "         [158, 148, 122],\n",
       "         [163, 156, 133],\n",
       "         ...,\n",
       "         [143, 133, 139],\n",
       "         [143, 134, 142],\n",
       "         [143, 133, 144]]],\n",
       "\n",
       "\n",
       "       [[[255, 255, 255],\n",
       "         [253, 253, 253],\n",
       "         [253, 253, 253],\n",
       "         ...,\n",
       "         [253, 253, 253],\n",
       "         [253, 253, 253],\n",
       "         [253, 253, 253]],\n",
       "\n",
       "        [[255, 255, 255],\n",
       "         [255, 255, 255],\n",
       "         [255, 255, 255],\n",
       "         ...,\n",
       "         [255, 255, 255],\n",
       "         [255, 255, 255],\n",
       "         [255, 255, 255]],\n",
       "\n",
       "        [[255, 255, 255],\n",
       "         [254, 254, 254],\n",
       "         [254, 254, 254],\n",
       "         ...,\n",
       "         [254, 254, 254],\n",
       "         [254, 254, 254],\n",
       "         [254, 254, 254]],\n",
       "\n",
       "        ...,\n",
       "\n",
       "        [[113, 120, 112],\n",
       "         [111, 118, 111],\n",
       "         [105, 112, 106],\n",
       "         ...,\n",
       "         [ 72,  81,  80],\n",
       "         [ 72,  80,  79],\n",
       "         [ 72,  80,  79]],\n",
       "\n",
       "        [[111, 118, 110],\n",
       "         [104, 111, 104],\n",
       "         [ 99, 106,  98],\n",
       "         ...,\n",
       "         [ 68,  75,  73],\n",
       "         [ 70,  76,  75],\n",
       "         [ 78,  84,  82]],\n",
       "\n",
       "        [[106, 113, 105],\n",
       "         [ 99, 106,  98],\n",
       "         [ 95, 102,  94],\n",
       "         ...,\n",
       "         [ 78,  85,  83],\n",
       "         [ 79,  85,  83],\n",
       "         [ 80,  86,  84]]],\n",
       "\n",
       "\n",
       "       ...,\n",
       "\n",
       "\n",
       "       [[[ 35, 178, 235],\n",
       "         [ 40, 176, 239],\n",
       "         [ 42, 176, 241],\n",
       "         ...,\n",
       "         [ 99, 177, 219],\n",
       "         [ 79, 147, 197],\n",
       "         [ 89, 148, 189]],\n",
       "\n",
       "        [[ 57, 182, 234],\n",
       "         [ 44, 184, 250],\n",
       "         [ 50, 183, 240],\n",
       "         ...,\n",
       "         [156, 182, 200],\n",
       "         [141, 177, 206],\n",
       "         [116, 149, 175]],\n",
       "\n",
       "        [[ 98, 197, 237],\n",
       "         [ 64, 189, 252],\n",
       "         [ 69, 192, 245],\n",
       "         ...,\n",
       "         [188, 195, 206],\n",
       "         [119, 135, 147],\n",
       "         [ 61,  79,  90]],\n",
       "\n",
       "        ...,\n",
       "\n",
       "        [[ 73,  79,  77],\n",
       "         [ 53,  63,  68],\n",
       "         [ 54,  68,  80],\n",
       "         ...,\n",
       "         [ 17,  40,  64],\n",
       "         [ 21,  36,  51],\n",
       "         [ 33,  48,  49]],\n",
       "\n",
       "        [[ 61,  68,  75],\n",
       "         [ 55,  70,  86],\n",
       "         [ 57,  79, 103],\n",
       "         ...,\n",
       "         [ 24,  48,  72],\n",
       "         [ 17,  35,  53],\n",
       "         [  7,  23,  32]],\n",
       "\n",
       "        [[ 44,  56,  73],\n",
       "         [ 46,  66,  88],\n",
       "         [ 49,  77, 105],\n",
       "         ...,\n",
       "         [ 27,  52,  77],\n",
       "         [ 21,  43,  66],\n",
       "         [ 12,  31,  50]]],\n",
       "\n",
       "\n",
       "       [[[189, 211, 240],\n",
       "         [186, 208, 236],\n",
       "         [185, 207, 235],\n",
       "         ...,\n",
       "         [175, 195, 224],\n",
       "         [172, 194, 222],\n",
       "         [169, 194, 220]],\n",
       "\n",
       "        [[194, 210, 239],\n",
       "         [191, 207, 236],\n",
       "         [190, 206, 235],\n",
       "         ...,\n",
       "         [173, 192, 220],\n",
       "         [171, 191, 218],\n",
       "         [167, 190, 216]],\n",
       "\n",
       "        [[208, 219, 244],\n",
       "         [205, 216, 240],\n",
       "         [204, 215, 239],\n",
       "         ...,\n",
       "         [175, 191, 217],\n",
       "         [172, 190, 216],\n",
       "         [169, 191, 215]],\n",
       "\n",
       "        ...,\n",
       "\n",
       "        [[207, 199, 181],\n",
       "         [203, 195, 175],\n",
       "         [203, 196, 173],\n",
       "         ...,\n",
       "         [135, 132, 127],\n",
       "         [162, 158, 150],\n",
       "         [168, 163, 151]],\n",
       "\n",
       "        [[198, 190, 170],\n",
       "         [189, 181, 159],\n",
       "         [180, 172, 147],\n",
       "         ...,\n",
       "         [178, 171, 160],\n",
       "         [175, 169, 156],\n",
       "         [175, 169, 154]],\n",
       "\n",
       "        [[198, 189, 173],\n",
       "         [189, 181, 162],\n",
       "         [178, 170, 149],\n",
       "         ...,\n",
       "         [195, 184, 169],\n",
       "         [196, 189, 171],\n",
       "         [195, 190, 171]]],\n",
       "\n",
       "\n",
       "       [[[229, 229, 239],\n",
       "         [236, 237, 247],\n",
       "         [234, 236, 247],\n",
       "         ...,\n",
       "         [217, 219, 233],\n",
       "         [221, 223, 234],\n",
       "         [222, 223, 233]],\n",
       "\n",
       "        [[222, 221, 229],\n",
       "         [239, 239, 249],\n",
       "         [233, 234, 246],\n",
       "         ...,\n",
       "         [223, 223, 236],\n",
       "         [227, 228, 238],\n",
       "         [210, 211, 220]],\n",
       "\n",
       "        [[213, 206, 211],\n",
       "         [234, 232, 239],\n",
       "         [231, 233, 244],\n",
       "         ...,\n",
       "         [220, 220, 232],\n",
       "         [220, 219, 232],\n",
       "         [202, 203, 215]],\n",
       "\n",
       "        ...,\n",
       "\n",
       "        [[150, 143, 135],\n",
       "         [140, 135, 127],\n",
       "         [132, 127, 120],\n",
       "         ...,\n",
       "         [224, 222, 218],\n",
       "         [230, 228, 225],\n",
       "         [241, 241, 238]],\n",
       "\n",
       "        [[137, 132, 126],\n",
       "         [130, 127, 120],\n",
       "         [125, 121, 115],\n",
       "         ...,\n",
       "         [181, 180, 178],\n",
       "         [202, 201, 198],\n",
       "         [212, 211, 207]],\n",
       "\n",
       "        [[122, 119, 114],\n",
       "         [118, 116, 110],\n",
       "         [120, 116, 111],\n",
       "         ...,\n",
       "         [179, 177, 173],\n",
       "         [164, 164, 162],\n",
       "         [163, 163, 161]]]], dtype=uint8)"
      ]
     },
     "execution_count": 23,
     "metadata": {},
     "output_type": "execute_result"
    }
   ],
   "source": [
    "x_train"
   ]
  },
  {
   "cell_type": "code",
   "execution_count": 29,
   "metadata": {
    "id": "UbB09WBZZ-hn"
   },
   "outputs": [],
   "source": [
    "## 資料前處理\n",
    "\n",
    "from sklearn.preprocessing import MinMaxScaler\n",
    "Scaler = MinMaxScaler( feature_range=(-1,1) ) # 設定縮放的區間上下限\n",
    "def preproc_x(x, flatten=True):\n",
    "\n",
    "  \n",
    "    #x = x / 255.\n",
    "    if flatten:\n",
    "        MinMax_Data = Scaler.fit_transform( x.reshape((len(x), -1)) ) # Data 為原始資料\n",
    "       # x = x.reshape((len(x), -1))\n",
    "    return MinMax_Data\n",
    "\n",
    "def preproc_y(y, num_classes=10):\n",
    "    if y.shape[-1] == 1:\n",
    "        y = keras.utils.to_categorical(y, num_classes)\n",
    "    return y    "
   ]
  },
  {
   "cell_type": "code",
   "execution_count": 27,
   "metadata": {
    "id": "ydUowIBQZ-ho"
   },
   "outputs": [],
   "source": [
    "x_train, y_train = train\n",
    "x_test, y_test = test\n",
    "\n",
    "# 資料前處理 - X 標準化\n",
    "x_train = preproc_x(x_train)\n",
    "x_test = preproc_x(x_test)\n",
    "\n",
    "# 資料前處理 -Y 轉成 onehot\n",
    "y_train = preproc_y(y_train)\n",
    "y_test = preproc_y(y_test)"
   ]
  },
  {
   "cell_type": "code",
   "execution_count": 28,
   "metadata": {},
   "outputs": [
    {
     "data": {
      "text/plain": [
       "array([[-0.5372549 , -0.51372549, -0.50588235, ..., -0.03529412,\n",
       "        -0.27843137, -0.43529412],\n",
       "       [ 0.20784314,  0.38823529,  0.46666667, ...,  0.12156863,\n",
       "         0.04313725,  0.12941176],\n",
       "       [ 1.        ,  1.        ,  1.        , ..., -0.37254902,\n",
       "        -0.3254902 , -0.34117647],\n",
       "       ...,\n",
       "       [-0.7254902 ,  0.39607843,  0.84313725, ..., -0.90588235,\n",
       "        -0.75686275, -0.60784314],\n",
       "       [ 0.48235294,  0.65490196,  0.88235294, ...,  0.52941176,\n",
       "         0.49019608,  0.34117647],\n",
       "       [ 0.79607843,  0.79607843,  0.8745098 , ...,  0.27843137,\n",
       "         0.27843137,  0.2627451 ]])"
      ]
     },
     "execution_count": 28,
     "metadata": {},
     "output_type": "execute_result"
    }
   ],
   "source": [
    "x_train"
   ]
  },
  {
   "cell_type": "code",
   "execution_count": 7,
   "metadata": {},
   "outputs": [
    {
     "name": "stdout",
     "output_type": "stream",
     "text": [
      " i=0\n",
      " n=512\n",
      " i=1\n",
      " n=256\n",
      " i=2\n",
      " n=128\n"
     ]
    }
   ],
   "source": [
    "for i,n in enumerate([512, 256, 128]):\n",
    "    \n",
    "    print(f\" i={i}\")\n",
    "    print(f\" n={n}\")"
   ]
  },
  {
   "cell_type": "code",
   "execution_count": 30,
   "metadata": {
    "id": "Gkiyt2rVZ-ho"
   },
   "outputs": [],
   "source": [
    "def build_mlp(input_shape, output_units=10, num_neurons=[512, 256, 128,64,32,16]):\n",
    "    input_layer = keras.layers.Input(input_shape)\n",
    "    \n",
    "    for i, n_units in enumerate(num_neurons):\n",
    "        if i == 0:\n",
    "            x = keras.layers.Dense(units=n_units, activation=\"relu\", name=\"hidden_layer\"+str(i+1))(input_layer)\n",
    "        else:\n",
    "            x = keras.layers.Dense(units=n_units, activation=\"relu\", name=\"hidden_layer\"+str(i+1))(x)\n",
    "    \n",
    "    out = keras.layers.Dense(units=output_units, activation=\"softmax\", name=\"output\")(x)\n",
    "    \n",
    "    model = keras.models.Model(inputs=[input_layer], outputs=[out])\n",
    "    return model"
   ]
  },
  {
   "cell_type": "code",
   "execution_count": null,
   "metadata": {},
   "outputs": [],
   "source": []
  },
  {
   "cell_type": "code",
   "execution_count": 31,
   "metadata": {
    "colab": {
     "base_uri": "https://localhost:8080/"
    },
    "executionInfo": {
     "elapsed": 10,
     "status": "ok",
     "timestamp": 1624721172598,
     "user": {
      "displayName": "王健安",
      "photoUrl": "https://lh3.googleusercontent.com/a-/AOh14GjkOiMI1V_jlsl754oMqyZoTjSfVhzPdb4cuHdA=s64",
      "userId": "16924381174086586694"
     },
     "user_tz": -480
    },
    "id": "6LYfZG76Z-hp",
    "outputId": "ce8b87e0-ee4e-4034-958b-772cc96e4d8b",
    "scrolled": true
   },
   "outputs": [
    {
     "name": "stdout",
     "output_type": "stream",
     "text": [
      "_________________________________________________________________\n",
      "Layer (type)                 Output Shape              Param #   \n",
      "=================================================================\n",
      "input_2 (InputLayer)         (None, 3072)              0         \n",
      "_________________________________________________________________\n",
      "hidden_layer1 (Dense)        (None, 512)               1573376   \n",
      "_________________________________________________________________\n",
      "hidden_layer2 (Dense)        (None, 256)               131328    \n",
      "_________________________________________________________________\n",
      "hidden_layer3 (Dense)        (None, 128)               32896     \n",
      "_________________________________________________________________\n",
      "hidden_layer4 (Dense)        (None, 64)                8256      \n",
      "_________________________________________________________________\n",
      "hidden_layer5 (Dense)        (None, 32)                2080      \n",
      "_________________________________________________________________\n",
      "hidden_layer6 (Dense)        (None, 16)                528       \n",
      "_________________________________________________________________\n",
      "output (Dense)               (None, 10)                170       \n",
      "=================================================================\n",
      "Total params: 1,748,634\n",
      "Trainable params: 1,748,634\n",
      "Non-trainable params: 0\n",
      "_________________________________________________________________\n"
     ]
    }
   ],
   "source": [
    "model = build_mlp(input_shape=x_train.shape[1:])\n",
    "model.summary()"
   ]
  },
  {
   "cell_type": "code",
   "execution_count": 32,
   "metadata": {
    "id": "sffkJJ9kZ-hp"
   },
   "outputs": [],
   "source": [
    "## 超參數設定\n",
    "LEARNING_RATE = 0.001\n",
    "EPOCHS = 30\n",
    "BATCH_SIZE = 256"
   ]
  },
  {
   "cell_type": "code",
   "execution_count": 34,
   "metadata": {
    "colab": {
     "base_uri": "https://localhost:8080/"
    },
    "executionInfo": {
     "elapsed": 7,
     "status": "ok",
     "timestamp": 1624721172598,
     "user": {
      "displayName": "王健安",
      "photoUrl": "https://lh3.googleusercontent.com/a-/AOh14GjkOiMI1V_jlsl754oMqyZoTjSfVhzPdb4cuHdA=s64",
      "userId": "16924381174086586694"
     },
     "user_tz": -480
    },
    "id": "ucNn5ByWZ-hq",
    "outputId": "167b4fdd-2062-463d-c233-d6a3d491350f"
   },
   "outputs": [],
   "source": [
    "optimizer = keras.optimizers.Adam(lr=LEARNING_RATE)\n",
    "model.compile(loss=\"categorical_crossentropy\", metrics=[\"accuracy\"], optimizer=optimizer)"
   ]
  },
  {
   "cell_type": "code",
   "execution_count": 35,
   "metadata": {
    "colab": {
     "base_uri": "https://localhost:8080/"
    },
    "executionInfo": {
     "elapsed": 717432,
     "status": "ok",
     "timestamp": 1624721890026,
     "user": {
      "displayName": "王健安",
      "photoUrl": "https://lh3.googleusercontent.com/a-/AOh14GjkOiMI1V_jlsl754oMqyZoTjSfVhzPdb4cuHdA=s64",
      "userId": "16924381174086586694"
     },
     "user_tz": -480
    },
    "id": "qu7PeZulZ-hq",
    "outputId": "a700187d-d420-4807-cbd9-b1f1809f923f"
   },
   "outputs": [
    {
     "name": "stdout",
     "output_type": "stream",
     "text": [
      "Train on 50000 samples, validate on 10000 samples\n",
      "Epoch 1/30\n",
      "50000/50000 [==============================] - 12s 231us/sample - loss: 1.8377 - acc: 0.3445 - val_loss: 1.6213 - val_acc: 0.4290\n",
      "Epoch 2/30\n",
      "50000/50000 [==============================] - 11s 211us/sample - loss: 1.5493 - acc: 0.4545 - val_loss: 1.4645 - val_acc: 0.4808\n",
      "Epoch 3/30\n",
      "50000/50000 [==============================] - 11s 211us/sample - loss: 1.4130 - acc: 0.5020 - val_loss: 1.4284 - val_acc: 0.4942\n",
      "Epoch 4/30\n",
      "50000/50000 [==============================] - 11s 212us/sample - loss: 1.3130 - acc: 0.5370 - val_loss: 1.4042 - val_acc: 0.5110\n",
      "Epoch 5/30\n",
      "50000/50000 [==============================] - 11s 220us/sample - loss: 1.2282 - acc: 0.5680 - val_loss: 1.3664 - val_acc: 0.5214\n",
      "Epoch 6/30\n",
      "50000/50000 [==============================] - 11s 218us/sample - loss: 1.1486 - acc: 0.5963 - val_loss: 1.3533 - val_acc: 0.5319\n",
      "Epoch 7/30\n",
      "50000/50000 [==============================] - 11s 219us/sample - loss: 1.0786 - acc: 0.6211 - val_loss: 1.3644 - val_acc: 0.5357\n",
      "Epoch 8/30\n",
      "50000/50000 [==============================] - 12s 231us/sample - loss: 1.0096 - acc: 0.6436 - val_loss: 1.3893 - val_acc: 0.5340\n",
      "Epoch 9/30\n",
      "50000/50000 [==============================] - 12s 234us/sample - loss: 0.9368 - acc: 0.6684 - val_loss: 1.4093 - val_acc: 0.5301\n",
      "Epoch 10/30\n",
      "50000/50000 [==============================] - 11s 228us/sample - loss: 0.8691 - acc: 0.6917 - val_loss: 1.4478 - val_acc: 0.5308\n",
      "Epoch 11/30\n",
      "50000/50000 [==============================] - 11s 226us/sample - loss: 0.8018 - acc: 0.7156 - val_loss: 1.4891 - val_acc: 0.5386\n",
      "Epoch 12/30\n",
      "50000/50000 [==============================] - 11s 223us/sample - loss: 0.7494 - acc: 0.7346 - val_loss: 1.5222 - val_acc: 0.5335\n",
      "Epoch 13/30\n",
      "50000/50000 [==============================] - 12s 248us/sample - loss: 0.6791 - acc: 0.7594 - val_loss: 1.6137 - val_acc: 0.5375\n",
      "Epoch 14/30\n",
      "50000/50000 [==============================] - 13s 255us/sample - loss: 0.6266 - acc: 0.7785 - val_loss: 1.6708 - val_acc: 0.5348\n",
      "Epoch 15/30\n",
      "50000/50000 [==============================] - 11s 213us/sample - loss: 0.5687 - acc: 0.7973 - val_loss: 1.7305 - val_acc: 0.5399\n",
      "Epoch 16/30\n",
      "50000/50000 [==============================] - 12s 233us/sample - loss: 0.5202 - acc: 0.8149 - val_loss: 1.8372 - val_acc: 0.5336\n",
      "Epoch 17/30\n",
      "50000/50000 [==============================] - 13s 258us/sample - loss: 0.4751 - acc: 0.8326 - val_loss: 1.9082 - val_acc: 0.5372\n",
      "Epoch 18/30\n",
      "50000/50000 [==============================] - 11s 221us/sample - loss: 0.4338 - acc: 0.8469 - val_loss: 2.0405 - val_acc: 0.5317\n",
      "Epoch 19/30\n",
      "50000/50000 [==============================] - 12s 235us/sample - loss: 0.4082 - acc: 0.8557 - val_loss: 2.0896 - val_acc: 0.5266\n",
      "Epoch 20/30\n",
      "50000/50000 [==============================] - 12s 238us/sample - loss: 0.3767 - acc: 0.8675 - val_loss: 2.1738 - val_acc: 0.5318\n",
      "Epoch 21/30\n",
      "50000/50000 [==============================] - 12s 239us/sample - loss: 0.3487 - acc: 0.8770 - val_loss: 2.2602 - val_acc: 0.5257\n",
      "Epoch 22/30\n",
      "50000/50000 [==============================] - 10s 208us/sample - loss: 0.3381 - acc: 0.8815 - val_loss: 2.3430 - val_acc: 0.5279\n",
      "Epoch 23/30\n",
      "50000/50000 [==============================] - 12s 244us/sample - loss: 0.3054 - acc: 0.8938 - val_loss: 2.4605 - val_acc: 0.5276\n",
      "Epoch 24/30\n",
      "50000/50000 [==============================] - 10s 205us/sample - loss: 0.2817 - acc: 0.9017 - val_loss: 2.4152 - val_acc: 0.5352\n",
      "Epoch 25/30\n",
      "50000/50000 [==============================] - 10s 208us/sample - loss: 0.2653 - acc: 0.9078 - val_loss: 2.5502 - val_acc: 0.5238\n",
      "Epoch 26/30\n",
      "50000/50000 [==============================] - 11s 215us/sample - loss: 0.2509 - acc: 0.9130 - val_loss: 2.6610 - val_acc: 0.5279\n",
      "Epoch 27/30\n",
      "50000/50000 [==============================] - 10s 203us/sample - loss: 0.2380 - acc: 0.9174 - val_loss: 2.6341 - val_acc: 0.5298\n",
      "Epoch 28/30\n",
      "50000/50000 [==============================] - 10s 201us/sample - loss: 0.2277 - acc: 0.9199 - val_loss: 2.7593 - val_acc: 0.5318\n",
      "Epoch 29/30\n",
      "50000/50000 [==============================] - 10s 202us/sample - loss: 0.2055 - acc: 0.9291 - val_loss: 2.7985 - val_acc: 0.5307\n",
      "Epoch 30/30\n",
      "50000/50000 [==============================] - 10s 208us/sample - loss: 0.2096 - acc: 0.9277 - val_loss: 2.8082 - val_acc: 0.5275\n"
     ]
    },
    {
     "data": {
      "text/plain": [
       "<tensorflow.python.keras.callbacks.History at 0x21e7f491240>"
      ]
     },
     "execution_count": 35,
     "metadata": {},
     "output_type": "execute_result"
    }
   ],
   "source": [
    "model.fit(x_train, y_train, \n",
    "          epochs=EPOCHS, \n",
    "          batch_size=BATCH_SIZE, \n",
    "          validation_data=(x_test, y_test), \n",
    "          shuffle=True)"
   ]
  },
  {
   "cell_type": "code",
   "execution_count": 40,
   "metadata": {},
   "outputs": [
    {
     "data": {
      "text/plain": [
       "{'loss': [1.8376884930801392,\n",
       "  1.5492784060287477,\n",
       "  1.4129870165252685,\n",
       "  1.3129733366012573,\n",
       "  1.2282340705108643,\n",
       "  1.1485670071792602,\n",
       "  1.0786067679595948,\n",
       "  1.0095831298446656,\n",
       "  0.9368127206039428,\n",
       "  0.8691420589828491,\n",
       "  0.8017549189758301,\n",
       "  0.7494465057754517,\n",
       "  0.6790631823921204,\n",
       "  0.6266261959457398,\n",
       "  0.568695944404602,\n",
       "  0.5202340013504029,\n",
       "  0.4750568610191345,\n",
       "  0.4337674311828613,\n",
       "  0.40821294275283815,\n",
       "  0.3766904307746887,\n",
       "  0.3486737483215332,\n",
       "  0.3380915927314758,\n",
       "  0.30537646591186524,\n",
       "  0.2816757437038422,\n",
       "  0.2653279392528534,\n",
       "  0.2508553344154358,\n",
       "  0.23801753756523134,\n",
       "  0.22771027551651002,\n",
       "  0.20548296308517455,\n",
       "  0.2095740466403961],\n",
       " 'acc': [0.3445,\n",
       "  0.45446,\n",
       "  0.50202,\n",
       "  0.537,\n",
       "  0.56798,\n",
       "  0.59626,\n",
       "  0.62114,\n",
       "  0.64364,\n",
       "  0.6684,\n",
       "  0.69174,\n",
       "  0.71558,\n",
       "  0.73456,\n",
       "  0.75938,\n",
       "  0.77854,\n",
       "  0.79732,\n",
       "  0.81486,\n",
       "  0.8326,\n",
       "  0.8469,\n",
       "  0.85574,\n",
       "  0.86754,\n",
       "  0.87698,\n",
       "  0.88152,\n",
       "  0.89378,\n",
       "  0.90172,\n",
       "  0.90782,\n",
       "  0.91304,\n",
       "  0.91744,\n",
       "  0.91992,\n",
       "  0.92914,\n",
       "  0.92772],\n",
       " 'val_loss': [1.621259149169922,\n",
       "  1.4644771839141846,\n",
       "  1.4283633037567138,\n",
       "  1.4042321403503417,\n",
       "  1.3664038583755493,\n",
       "  1.3532673735618592,\n",
       "  1.3644168556213379,\n",
       "  1.3893059211730956,\n",
       "  1.409332848930359,\n",
       "  1.4477927669525146,\n",
       "  1.4890712158203125,\n",
       "  1.5222414697647095,\n",
       "  1.6137003189086914,\n",
       "  1.6707869216918945,\n",
       "  1.7305400413513183,\n",
       "  1.8372120979309081,\n",
       "  1.908231735610962,\n",
       "  2.040455817604065,\n",
       "  2.0895563800811767,\n",
       "  2.1738164569854734,\n",
       "  2.260199726486206,\n",
       "  2.343014210891724,\n",
       "  2.46050645904541,\n",
       "  2.4151909481048586,\n",
       "  2.550249536895752,\n",
       "  2.661036499786377,\n",
       "  2.634099188232422,\n",
       "  2.759306247329712,\n",
       "  2.7984715995788574,\n",
       "  2.8081565200805665],\n",
       " 'val_acc': [0.429,\n",
       "  0.4808,\n",
       "  0.4942,\n",
       "  0.511,\n",
       "  0.5214,\n",
       "  0.5319,\n",
       "  0.5357,\n",
       "  0.534,\n",
       "  0.5301,\n",
       "  0.5308,\n",
       "  0.5386,\n",
       "  0.5335,\n",
       "  0.5375,\n",
       "  0.5348,\n",
       "  0.5399,\n",
       "  0.5336,\n",
       "  0.5372,\n",
       "  0.5317,\n",
       "  0.5266,\n",
       "  0.5318,\n",
       "  0.5257,\n",
       "  0.5279,\n",
       "  0.5276,\n",
       "  0.5352,\n",
       "  0.5238,\n",
       "  0.5279,\n",
       "  0.5298,\n",
       "  0.5318,\n",
       "  0.5307,\n",
       "  0.5275]}"
      ]
     },
     "execution_count": 40,
     "metadata": {},
     "output_type": "execute_result"
    }
   ],
   "source": [
    "model.history.history"
   ]
  },
  {
   "cell_type": "code",
   "execution_count": 41,
   "metadata": {
    "colab": {
     "base_uri": "https://localhost:8080/",
     "height": 545
    },
    "executionInfo": {
     "elapsed": 666,
     "status": "ok",
     "timestamp": 1624721890684,
     "user": {
      "displayName": "王健安",
      "photoUrl": "https://lh3.googleusercontent.com/a-/AOh14GjkOiMI1V_jlsl754oMqyZoTjSfVhzPdb4cuHdA=s64",
      "userId": "16924381174086586694"
     },
     "user_tz": -480
    },
    "id": "qIA577VFZ-hq",
    "outputId": "21e67fd2-9ccf-49d2-b6d6-729083b39d42"
   },
   "outputs": [
    {
     "data": {
      "image/png": "[encoded data removed]",
      "text/plain": [
       "<Figure size 432x288 with 1 Axes>"
      ]
     },
     "metadata": {
      "needs_background": "light"
     },
     "output_type": "display_data"
    },
    {
     "data": {
      "image/png": "[encoded data removed]",
      "text/plain": [
       "<Figure size 432x288 with 1 Axes>"
      ]
     },
     "metadata": {
      "needs_background": "light"
     },
     "output_type": "display_data"
    }
   ],
   "source": [
    "import matplotlib.pyplot as plt\n",
    "\n",
    "\n",
    "train_loss = model.history.history[\"loss\"]\n",
    "valid_loss = model.history.history[\"val_loss\"]\n",
    "\n",
    "train_acc = model.history.history[\"acc\"]\n",
    "valid_acc = model.history.history[\"val_acc\"]\n",
    "\n",
    "plt.plot(range(len(train_loss)), train_loss, label=\"train loss\")\n",
    "plt.plot(range(len(valid_loss)), valid_loss, label=\"valid loss\")\n",
    "plt.legend()\n",
    "plt.title(\"Loss\")\n",
    "plt.show()\n",
    "\n",
    "plt.plot(range(len(train_acc)), train_acc, label=\"train accuracy\")\n",
    "plt.plot(range(len(valid_acc)), valid_acc, label=\"valid accuracy\")\n",
    "plt.legend()\n",
    "plt.title(\"Accuracy\")\n",
    "plt.show()"
   ]
  },
  {
   "cell_type": "markdown",
   "metadata": {
    "id": "auI1a0oKZ-hr"
   },
   "source": [
    "## Work\n",
    "1. 請嘗試將 preproc_x 替換成以每筆資料的 min/max 進行標準化至 -1 ~ 1 間，再進行訓練\n",
    "2. 請嘗試將 mlp 疊更深 (e.g 5~10 層)，進行訓練後觀察 learning curve 的走勢\n",
    "3. (optional) 請改用 GPU 進行訓練 (可善用 google colab)，比較使用 CPU 與 GPU 的訓練速度"
   ]
  }
 ],
 "metadata": {
  "accelerator": "GPU",
  "colab": {
   "name": "Day078_CheckBeforeTrain_範例 (更新).ipynb",
   "provenance": []
  },
  "kernelspec": {
   "display_name": "Python 3",
   "language": "python",
   "name": "python3"
  },
  "language_info": {
   "codemirror_mode": {
    "name": "ipython",
    "version": 3
   },
   "file_extension": ".py",
   "mimetype": "text/x-python",
   "name": "python",
   "nbconvert_exporter": "python",
   "pygments_lexer": "ipython3",
   "version": "3.7.0"
  }
 },
 "nbformat": 4,
 "nbformat_minor": 1
}
